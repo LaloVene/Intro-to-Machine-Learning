{
 "cells": [
  {
   "cell_type": "code",
   "execution_count": 16,
   "metadata": {
    "tags": []
   },
   "outputs": [
    {
     "output_type": "stream",
     "name": "stderr",
     "text": "UsageError: Line magic function `%tensorflow_version` not found.\n"
    }
   ],
   "source": [
    "# set tf 1.x for colab\n",
    "%tensorflow_version 1.x"
   ]
  },
  {
   "cell_type": "markdown",
   "metadata": {
    "slideshow": {
     "slide_type": "slide"
    }
   },
   "source": [
    "# MNIST digits classification with TensorFlow"
   ]
  },
  {
   "cell_type": "markdown",
   "metadata": {},
   "source": [
    "<img src=\"images/mnist_sample.png\" style=\"width:30%\">"
   ]
  },
  {
   "cell_type": "code",
   "execution_count": 17,
   "metadata": {
    "tags": []
   },
   "outputs": [
    {
     "output_type": "stream",
     "name": "stdout",
     "text": "We're using TF 2.3.0\n"
    }
   ],
   "source": [
    "import numpy as np\n",
    "from sklearn.metrics import accuracy_score\n",
    "from matplotlib import pyplot as plt\n",
    "%matplotlib inline\n",
    "import tensorflow.compat.v1 as tf\n",
    "tf.disable_v2_behavior()\n",
    "print(\"We're using TF\", tf.__version__)\n",
    "\n",
    "import sys\n",
    "sys.path.append(\"../..\")\n",
    "import grading\n",
    "\n",
    "import matplotlib_utils\n",
    "from importlib import reload\n",
    "reload(matplotlib_utils)\n",
    "\n",
    "import grading_utils\n",
    "reload(grading_utils)\n",
    "\n",
    "import keras_utils\n",
    "# from keras_utils import reset_tf_session"
   ]
  },
  {
   "cell_type": "markdown",
   "metadata": {},
   "source": [
    "# Fill in your Coursera token and email\n",
    "To successfully submit your answers to our grader, please fill in your Coursera submission token and email"
   ]
  },
  {
   "cell_type": "code",
   "execution_count": 18,
   "metadata": {},
   "outputs": [],
   "source": [
    "grader = grading.Grader(assignment_key=\"XtD7ho3TEeiHQBLWejjYAA\", \n",
    "                        all_parts=[\"9XaAS\", \"vmogZ\", \"RMv95\", \"i8bgs\", \"rE763\"])"
   ]
  },
  {
   "cell_type": "code",
   "execution_count": 93,
   "metadata": {},
   "outputs": [],
   "source": [
    "# token expires every 30 min\n",
    "COURSERA_TOKEN = \"dtAXoHotXsSx65qm\"\n",
    "COURSERA_EMAIL = \"A01638188@itesm.mx\""
   ]
  },
  {
   "cell_type": "markdown",
   "metadata": {},
   "source": [
    "# Look at the data\n",
    "\n",
    "In this task we have 50000 28x28 images of digits from 0 to 9.\n",
    "We will train a classifier on this data."
   ]
  },
  {
   "cell_type": "code",
   "execution_count": 20,
   "metadata": {},
   "outputs": [],
   "source": [
    "import preprocessed_mnist\n",
    "X_train, y_train, X_val, y_val, X_test, y_test = preprocessed_mnist.load_dataset()"
   ]
  },
  {
   "cell_type": "code",
   "execution_count": 21,
   "metadata": {
    "tags": []
   },
   "outputs": [
    {
     "output_type": "error",
     "ename": "SyntaxError",
     "evalue": "invalid syntax (<ipython-input-21-1c5b0c199184>, line 7)",
     "traceback": [
      "\u001b[1;36m  File \u001b[1;32m\"<ipython-input-21-1c5b0c199184>\"\u001b[1;36m, line \u001b[1;32m7\u001b[0m\n\u001b[1;33m    plt.imshow(X_train[1], cmap=\"Greys\")dvssv\u001b[0m\n\u001b[1;37m                                        ^\u001b[0m\n\u001b[1;31mSyntaxError\u001b[0m\u001b[1;31m:\u001b[0m invalid syntax\n"
     ]
    }
   ],
   "source": [
    "# X contains rgb values divided by 255\n",
    "print(\"X_train [shape %s] sample patch:\\n\" % (str(X_train.shape)), X_train[1, 15:20, 5:10])\n",
    "print(\"A closeup of a sample patch:\")\n",
    "plt.imshow(X_train[1, 15:20, 5:10], cmap=\"Greys\")\n",
    "plt.show()\n",
    "print(\"And the whole sample:\")\n",
    "plt.imshow(X_train[1], cmap=\"Greys\")dvssv\n",
    "plt.show()\n",
    "print(\"y_train [shape %s] 10 samples:\\n\" % (str(y_train.shape)), y_train[:10])"
   ]
  },
  {
   "cell_type": "markdown",
   "metadata": {},
   "source": [
    "# Linear model\n",
    "\n",
    "Your task is to train a linear classifier $\\vec{x} \\rightarrow y$ with SGD using TensorFlow.\n",
    "\n",
    "You will need to calculate a logit (a linear transformation) $z_k$ for each class: \n",
    "$$z_k = \\vec{x} \\cdot \\vec{w_k} + b_k \\quad k = 0..9$$\n",
    "\n",
    "And transform logits $z_k$ to valid probabilities $p_k$ with softmax: \n",
    "$$p_k = \\frac{e^{z_k}}{\\sum_{i=0}^{9}{e^{z_i}}} \\quad k = 0..9$$\n",
    "\n",
    "We will use a cross-entropy loss to train our multi-class classifier:\n",
    "$$\\text{cross-entropy}(y, p) = -\\sum_{k=0}^{9}{\\log(p_k)[y = k]}$$ \n",
    "\n",
    "where \n",
    "$$\n",
    "[x]=\\begin{cases}\n",
    "       1, \\quad \\text{if $x$ is true} \\\\\n",
    "       0, \\quad \\text{otherwise}\n",
    "    \\end{cases}\n",
    "$$\n",
    "\n",
    "Cross-entropy minimization pushes $p_k$ close to 1 when $y = k$, which is what we want.\n",
    "\n",
    "Here's the plan:\n",
    "* Flatten the images (28x28 -> 784) with `X_train.reshape((X_train.shape[0], -1))` to simplify our linear model implementation\n",
    "* Use a matrix placeholder for flattened `X_train`\n",
    "* Convert `y_train` to one-hot encoded vectors that are needed for cross-entropy\n",
    "* Use a shared variable `W` for all weights (a column $\\vec{w_k}$ per class) and `b` for all biases.\n",
    "* Aim for ~0.93 validation accuracy"
   ]
  },
  {
   "cell_type": "code",
   "execution_count": 22,
   "metadata": {
    "tags": []
   },
   "outputs": [
    {
     "output_type": "stream",
     "name": "stdout",
     "text": "(50000, 784)\n(10000, 784)\n"
    }
   ],
   "source": [
    "X_train_flat = X_train.reshape((X_train.shape[0], -1))\n",
    "print(X_train_flat.shape)\n",
    "\n",
    "X_val_flat = X_val.reshape((X_val.shape[0], -1))\n",
    "print(X_val_flat.shape)"
   ]
  },
  {
   "cell_type": "code",
   "execution_count": 23,
   "metadata": {
    "tags": []
   },
   "outputs": [
    {
     "output_type": "stream",
     "name": "stdout",
     "text": "(50000, 10)\n[[0. 0. 0. 0. 0. 1. 0. 0. 0. 0.]\n [1. 0. 0. 0. 0. 0. 0. 0. 0. 0.]\n [0. 0. 0. 0. 1. 0. 0. 0. 0. 0.]] [5 0 4]\n"
    }
   ],
   "source": [
    "import keras\n",
    "\n",
    "y_train_oh = keras.utils.to_categorical(y_train, 10)\n",
    "y_val_oh = keras.utils.to_categorical(y_val, 10)\n",
    "\n",
    "print(y_train_oh.shape)\n",
    "print(y_train_oh[:3], y_train[:3])"
   ]
  },
  {
   "cell_type": "code",
   "execution_count": 24,
   "metadata": {},
   "outputs": [],
   "source": [
    "# run this again if you remake your graph\n",
    "# s = reset_tf_session()"
   ]
  },
  {
   "cell_type": "code",
   "execution_count": 102,
   "metadata": {},
   "outputs": [],
   "source": [
    "tf.reset_default_graph()\n",
    "# Model parameters: W and b\n",
    "W = tf.get_variable(name = \"W\", shape = (784,10)) ### YOUR CODE HERE ### tf.get_variable(...) with shape[0] = 784\n",
    "b = tf.get_variable(name = \"b\", shape = (10,))### YOUR CODE HERE ### tf.get_variable(...)"
   ]
  },
  {
   "cell_type": "code",
   "execution_count": 103,
   "metadata": {},
   "outputs": [],
   "source": [
    "# Placeholders for the input data\n",
    "input_X = tf.placeholder(tf.float32, shape = (None,784)) ### YOUR CODE HERE ### tf.placeholder(...) for flat X with shape[0] = None for any batch size\n",
    "input_y = tf.placeholder(tf.int32, shape = (None,10)) ### YOUR CODE HERE ### tf.placeholder(...) for one-hot encoded true labels"
   ]
  },
  {
   "cell_type": "code",
   "execution_count": 104,
   "metadata": {
    "tags": []
   },
   "outputs": [],
   "source": [
    "# Compute predictions\n",
    "logits = input_X @ W + b ### YOUR CODE HERE ### logits for input_X, resulting shape should be [input_X.shape[0], 10]\n",
    "probas = tf.nn.softmax(logits) ### YOUR CODE HERE ### apply tf.nn.softmax to logits\n",
    "classes = tf.argmax(probas, axis = 1) ### YOUR CODE HERE ### apply tf.argmax to find a class index with highest probability\n",
    "\n",
    "# Loss should be a scalar number: average loss over all the objects with tf.reduce_mean().\n",
    "# Use tf.nn.softmax_cross_entropy_with_logits on top of one-hot encoded input_y and logits.\n",
    "# It is identical to calculating cross-entropy on top of probas, but is more numerically friendly (read the docs).\n",
    "loss = tf.reduce_mean(tf.nn.softmax_cross_entropy_with_logits(labels = input_y, logits =  logits)) ### YOUR CODE HERE ### cross-entropy loss\n",
    "\n",
    "# Use a default tf.train.AdamOptimizer to get an SGD step\n",
    "step = tf.train.AdamOptimizer().minimize(loss) ### YOUR CODE HERE ### optimizer step that minimizes the loss"
   ]
  },
  {
   "cell_type": "code",
   "execution_count": 120,
   "metadata": {
    "scrolled": false
   },
   "outputs": [
    {
     "output_type": "display_data",
     "data": {
      "text/html": "<img src=\"data:image/jpeg;base64,/9j/4AAQSkZJRgABAQEASABIAAD/2wBDAAIBAQEBAQIBAQECAgICAgQDAgICAgUEBAMEBgUGBgYFBgYGBwkIBgcJBwYGCAsICQoKCgoKBggLDAsKDAkKCgr/2wBDAQICAgICAgUDAwUKBwYHCgoKCgoKCgoKCgoKCgoKCgoKCgoKCgoKCgoKCgoKCgoKCgoKCgoKCgoKCgoKCgoKCgr/wAARCAEgA2ADASIAAhEBAxEB/8QAHwAAAQUBAQEBAQEAAAAAAAAAAAECAwQFBgcICQoL/8QAtRAAAgEDAwIEAwUFBAQAAAF9AQIDAAQRBRIhMUEGE1FhByJxFDKBkaEII0KxwRVS0fAkM2JyggkKFhcYGRolJicoKSo0NTY3ODk6Q0RFRkdISUpTVFVWV1hZWmNkZWZnaGlqc3R1dnd4eXqDhIWGh4iJipKTlJWWl5iZmqKjpKWmp6ipqrKztLW2t7i5usLDxMXGx8jJytLT1NXW19jZ2uHi4%2BTl5ufo6erx8vP09fb3%2BPn6/8QAHwEAAwEBAQEBAQEBAQAAAAAAAAECAwQFBgcICQoL/8QAtREAAgECBAQDBAcFBAQAAQJ3AAECAxEEBSExBhJBUQdhcRMiMoEIFEKRobHBCSMzUvAVYnLRChYkNOEl8RcYGRomJygpKjU2Nzg5OkNERUZHSElKU1RVVldYWVpjZGVmZ2hpanN0dXZ3eHl6goOEhYaHiImKkpOUlZaXmJmaoqOkpaanqKmqsrO0tba3uLm6wsPExcbHyMnK0tPU1dbX2Nna4uPk5ebn6Onq8vP09fb3%2BPn6/9oADAMBAAIRAxEAPwD9/KKKKACiiigAooooAKKKKACiiigAooooAKKKKACiiigAooooAKKKKACiiigAooooAKKKKACiiigAooooAKKKKACiiigAooooAKKKKACiiigAooooAKKKKACiiigAooooAKKKKACiiigAooooAKKKKACiiigAooooAKKKKACiiigAooooAKKKKACiiigAooooAKKKKACiiigAooooAKKKKACiiigAooooAKKKKACiiigAooooAKKKKACiiigAooooAKKKKACiiigAooooAKKKKACiiigAooooAKKKKACiiigAooooAKKKKACiiigAooooAKKKKACiiigAooooAKKKKACiiigAooooAKKKKACuN%2BOP7QHwm/Zx8JW/jT4veJ5dPtL7U4dN0u2stLub%2B91K9lDGO1tLO0jluLudlR2EUMbvtR2xhWI7KvFv2u/gP8VPiX4h%2BGfxl%2BBd14fl8X/CrxjPrWmaJ4tu57bTdYhudLvdMubaW4ghmktH8q9aSOdYZtrR7TGyu2ACjpH/AAUr/Y71rxmfh5bePfEEGtwaVDqmradqPw5160k0WxkNwFu9S8%2ByQaZADazhpbswohTDFSygzeE/%2BCj/AOxr4z8H%2BIfHWmfFi5tdP8MaPa6vqg1zwnqumXEmn3LmO1vLW3u7WKa%2Bt55AY4ZbZJUmchIyzEA%2Bd3n7DHxn%2BOtp%2B0i37Qt74V8MS/tB/CPTvB0kfgrWLrUzo7RWusWsr%2BbcWtqZ1VNRiZDsXeyygogxuytY/Y2/at%2BM%2Btaz8UP2lPh38G9X1e0%2BE6eBtB8E6d4n1QaRrSy6jaXt5fXd2bBJ9PYmyg%2BzxQw3BtnDP50hIwAeyX/7fP7N2leAbH4h6tdeOLSHVPED6Jpeh3Xwj8SR67e3yW5uXjh0dtPGoSqsAMpkS3KBFZi2Acen%2BEvHXhvxr4JsfiHotxcxaVqFgt5BLqmnz2MscJXdmWG5SOWBgPvJIqspBDAEEV8a237DP7WkvwUk8LePvC/hTxpfQ/EOXW/Beg6z%2B0P4rt7vwHYnTYrURaf4tj09tWuJDKLuVvMhjAjvDCG2RjPqfg/9gzVfFPwF0bwt%2B038dfHHiPx8nw2uvC2v%2BIdJ%2BIetW%2BmXQubW5t5Jn0tbpLG8mRLpgt1cWzTO0UUrFXRNgBt%2BGP8AgpJ%2Bxl4v8PeJPFmjfFq5XTPC3gy88XX99feEtVtIr3QLVd1xqmntPaoNVtEBXM9l56EyRgEmRA3E/Gj/AIK6fsw%2BA/2Z/ib%2B0D8K31nxnd/DfwbD4kbwy3hfWNNm1exuHaO1u7V5rAtcWMsiMPt8Ec1siqzs4VSR474X/wCCUPxoX4J%2BL/hZ4s8O%2BHpPEP8AwoXxH4B8F%2BPNR/aH8beIEkuNSsI7TzDpGqpJbaNbSGGJ5Y4JLpk8qNULBBn0f9qX/gnN8UP2gLDxVomh%2BMfDulW2vfsr33w0tZZnnYwatJcRywztGsQBtRsIJDeYM8J3oA9Ul/4KKfss2/ibw14EvNX8a23iTxdp0uoaD4UvPhJ4lh1eWziu/sclzJYSaeLm3hSYjdJNGiKjLKSI2VzL4G/4KJ/sd/EjVNV0rwh8W5JzpWiahrK3c/hrUre01TT7Fgl5d6bczW6Q6rDCxUO9k86qXUE/MM4vgj4AfHnxj%2B1TY/tQfHPw/wCDvD8knwcv/B%2BqaJ4T8V3eqmC5l1aO5SSG5n0%2BzLxNBEpYmNGSQ7QrqokPgM37Dn7S/wANv2efC/hT40a14EHhH9m74H%2BJNA8F6n4VvruTUvFO7QjplvcXtvLbRRacEs0ZpIYpboSTsrh41QKQD6B8Kf8ABUv9hfxp4N1n4haH8ZbtdF0LwcfFt1qN/wCDNYs47nQQUD6rZ%2BfaIb%2BzjMiCSe2EscW4eYy5r121%2BMHw5vfi5cfAqz8RibxVZ%2BGoNfu9MitZWEOnTzy28M7yhPKXzJYJ1RC%2B9vJkIUhGI%2BKv2R/2fviF4s%2BCXwh%2BO37b%2BpfDLRfhh8N/2X7nw/BJp2tzhNX03VNO0s3l9qv2qCGHTIIrTTlVoEluEzK8jTKsarXYf8EVvhX470f9nfU/j18VvFreItY8a30Gm%2BHPEMsDRyX3hHRIv7K0S4Ifn/SoYZtUJ7vqzkBQQoAPsqiiigAooooAKKKKACiiigAooooAKKKKACiiigAooooAKKKKACiiigAooooAKKKKACiiigAooooAKKKKACiiigAooooAKKKKACvEdI/4KMfse6ld69Z6n8Urzw83hzw5c%2BINQk8a%2BEdV0GObSbd0jnv7WTUrWBb63R5IlaW2MqAyxjOXXPtN7FczWcsNndCCZ4mWKYx7/LYjhtp64POO9fmJq/8AwRy/bl%2BL%2BreF9c%2BN3xx0N9b8NeD9Qs9Q8Uah8VvE3iceIdb%2B2aVfWuonS76KGy0m2kudMXz7CyAURybVlkCoFAPtl/2//wBmG1%2BGjfFjWPEHirStLbXINGsbPXPhlr9hqmp38yGSGCy024sUvb9pEDOv2eGQMqOwJCMR0XgP9qz4H/EfX7Lwn4c8Q6pDq9/4Un8SQ6RrXhXUtMu002G7%2BySyyw3lvFJA6z/IYZFWXvs2815N8Tvg5%2B278Ym%2BHvxt1zwb8KtD%2BIfwo8dTax4f8M2vjjUr/Rdcs7jSbvTLmO4vn0qGaxmKXskkbpa3AjMQU%2BYJGxV%2BJPwG/bg1/wCMvh39prwPo3wrtPFl98MNV8F%2BMdC1LxXqUlhpC3F/DdWt/ZXCacJNQMQjdZLeWK0EpcYlixyAdxpP/BRv9kDxHr3gXwt4V%2BI2q6zqfxJ8G6V4t8G6dongfWb2e80PUX2WuoyJBaM1rb7seZJOI1twymbygwJ2Phr%2B25%2Bzd8V/iNc/Cfwz4v1az1%2B30u51OGy8T%2BDNW0Rb%2Bxt5Ejnu7KXUbWCO/gjeWIPLbNIi%2BYhJAZSfKP2FP2Evix%2BzDr/w41nx54g8NXZ8HfspeEfhjfvpFzPKzatpbzNczReZBHutW3psZirtt%2BaNMCvGvhp/wSr/AGxvE/xR8L%2BJv2pvjDZ6pFp/gDxX4X8aeJoPi/4k1q88RS6vYpbf2na6ZfQx6foRypY2lopRcqBM4jVaAPqXwn/wUX/ZH8a6LH4q0Hx3rn9h3Gq6Xp%2Bn%2BJb34f63a6VqMupXsdlZSWl9PZpbXkEtzNFGLiCR4QZULOFYE%2Bl%2BFvi78PPGvxA8U/C7wv4h%2B1654Lks4/E9olpMFsZLqD7RBGZWQRu7QlZCiMzIskZYKJE3fMPjjwJ8RfCv/BPbxp8CP%2BChnif4VeCPAWg/DSLQLb4meHfFt2GadI0trXUntLqzgTTZlmFvJDBHcXTGcoiOTtDdr/wSv%2BH3xY8N/siaV8Vf2irBLf4nfFi%2Bl8dfESFLdovs9/frGYbTY3zJ9lsY7Kz2nJAtcGgD6NooooAKKKKACiiigAooooAKKKKACiiigAooooAKKKKACiiigAooooAKKKKACiiigAooooAKKKKACiiigAooooAKKKKACiiigAooooAK8X%2BPXj/9ov8A4aL8C/Aj4C%2BM/BXh9Nf8FeJde1fU/F/gu71ok6dd6Hbwwwx2%2BpWPlhv7UlZmZnz5aABeSfaK8K%2BIutJZ/wDBSr4Q6LIoxe/BP4hsjZ53R6t4NOPyZj%2BFJtLcuEJVHaPZv7tWX/8AhB/%2BChf/AEdB8Gf/AAw%2Brf8AzUUf8IP/AMFC/wDo6D4M/wDhh9W/%2BaivZqKZB4z/AMIP/wAFC/8Ao6D4M/8Ahh9W/wDmoo/4Qf8A4KF/9HQfBn/ww%2Brf/NRXs1FAHjP/AAg//BQv/o6D4M/%2BGH1b/wCaij/hB/8AgoX/ANHQfBn/AMMPq3/zUV7NRQB4z/wg/wDwUL/6Og%2BDP/hh9W/%2Baij/AIQf/goX/wBHQfBn/wAMPq3/AM1FezUUAeM/8IP/AMFC/wDo6D4M/wDhh9W/%2Baij/hB/%2BChf/R0HwZ/8MPq3/wA1FezUUAeM/wDCD/8ABQv/AKOg%2BDP/AIYfVv8A5qKP%2BEH/AOChf/R0HwZ/8MPq3/zUV7NRQB4z/wAIP/wUL/6Og%2BDP/hh9W/8Amoo/4Qf/AIKF/wDR0HwZ/wDDD6t/81FezVm%2BMZ5rXwjqt1bSskkemztG6nBVhGxBHvmgDyv/AIQf/goX/wBHQfBn/wAMPq3/AM1FH/CD/wDBQv8A6Og%2BDP8A4YfVv/moq943/aA/Ya%2BFvie58B/Ev44fCnw/rdgIxe6Rr/ifTbW8g3xrInmRzSB1LI6uCw5VgeQQayf%2BGv8A/gnB/wBHRfBH/wALbR//AI7XNLG4KEnGVWKa/vR/%2BSPco8McT4ilGrSwFeUZJNNUK7TT1TTVFpprZptPo2WP%2BEH/AOChf/R0HwZ/8MPq3/zUUf8ACD/8FC/%2BjoPgz/4YfVv/AJqKr/8ADX//AATg/wCjovgj/wCFto//AMdr0rxXpHw%2B8IeFtS8Wah4HtJrfS9Pmu54rLRPtEzpGhdljiijZ5HIUgIiszHAAJIFaUsRQr39lNSt2af5NnHjspzbK%2BX67hqlHmvb2lOpTvbe3PCF7XV7XtdXtdHnv/CD/APBQv/o6D4M/%2BGH1b/5qKP8AhB/%2BChf/AEdB8Gf/AAw%2Brf8AzUVxvwK/b1/Y8%2BOPhb4Y39p4G13Stf8Aip4bt9Z8P%2BFL34V6ubtbd/sayzsRY7RaRSX1ujXxItcP5gl2AsN2f9q/9li90PUNQ0DRYbW90nXvDmnajpfjTwLq2gXEa6zqsWm2c6w3WnefJHLM8iRSrEYHliZHmhVZJY9TzzV/4Qf/AIKF/wDR0HwZ/wDDD6t/81FH/CD/APBQv/o6D4M/%2BGH1b/5qKpfDz9rf9iH4peN734f%2BENbsTfWDa0stzqfgu9sLCV9IuzaamkN7dWsdtcNbTKVlWKVygG8jZ81an7QnxM8FfCL4c6J4o%2BH/AMK/D/i3WPF/iHTdE8G6b9pitLTULq9cbJJLtIZvKt0hEtw8iRyt5cTbEdiqkAg/4Qf/AIKF/wDR0HwZ/wDDD6t/81FH/CD/APBQv/o6D4M/%2BGH1b/5qKyvCf7R/wok/ZR8ZftP/ABT%2BEen%2BHh8N4vEY8eaJZpFffYptEkuUvBBMYovtEbC2aWJykbPHJGWSNiyLytr%2B0l8To/BvxH0jxB%2BxX4M0/wCJnw/8LaV4mPg1vHIfTrzSNQ%2B1iKVtRGlh4ZkbTtRjeIW0gD2wCu6yBwAd/wD8IP8A8FC/%2BjoPgz/4YfVv/moo/wCEH/4KF/8AR0HwZ/8ADD6t/wDNRXJ/Ej9o278H/Az4SftA%2BGf2X/DOqaJ8Qtc8H2HiWO78Qraz6AniDUtM06CSBRYyC/aOXUlZkY24KQsd4LBan%2BOn7Rei/Av9ozwT8F9X%2BEXw4v7Lx1rNppuj2lp4yUeKZvOYrLeRaIdPxNZ25G%2BecXQ8uJJJCvybWAOl/wCEH/4KF/8AR0HwZ/8ADD6t/wDNRR/wg/8AwUL/AOjoPgz/AOGH1b/5qK8g0L/goL4NuTe61r/7Lel/2VqXhbxnrfw7s/D%2BrRajrniAeGrjyby0m0/7JGLS5lJBhjSa4GQySmGTajaX7Nf7XWt/tZ%2BBfE%2BsfAn9nb4ReJtU8Patp9rFqPh74pi%2B8L3iXNr9okVdWi0gyC6twVWW3W0fYZofnw7FAD03/hB/%2BChf/R0HwZ/8MPq3/wA1FH/CD/8ABQv/AKOg%2BDP/AIYfVv8A5qK8g%2BJ3/BQ74dfD79jOw/aZ0/8AZl0/WPEt/d6xBH4FtdSgEZTSL2e21S9W%2BFuwaxjFs7xXPkgT/aLNNsbXKgdb46/aq0Twh8cdT8GWf7NuiXvgXwx4/wDD3gfxh4zfVUiu7HXtajsWsoobD7Iy3EAOq6UskxuI2U3vyxyCNjQB2X/CD/8ABQv/AKOg%2BDP/AIYfVv8A5qKP%2BEH/AOChf/R0HwZ/8MPq3/zUV5n8IP20bH4veKbHwzp37M3hC1l8beGPEus/Ca3fxbG9zrI0a9hs54NRi%2BwgaXI73ELDy2uwiiUSbJIxG%2BnYftK66PBPxLl8XfAL4ReG/E3wp8QWlh4rfX/iabbwxDb3Fhb3wn/thtI8yN1iuYw8UtmhVmU7tjo5AO5/4Qf/AIKF/wDR0HwZ/wDDD6t/81FH/CD/APBQv/o6D4M/%2BGH1b/5qK%2Befir/wVP8Ah58Ofgn4B%2BMP/DOHgy3Xxt4U1rXLaLxV4zj0q11I6dcRQLYaLc/2fL/bF7e%2BZ59jDsg%2B0wbZMpu2js/En7eHgTQf2yLD9k4fs/eF0ubvXdK0wWGo%2BIobfxNcpe6eL06nZ6N9kYXWmW4LRXF2LlPLktbtdjeSN4B6n/wg/wDwUL/6Og%2BDP/hh9W/%2Baij/AIQf/goX/wBHQfBn/wAMPq3/AM1FcBrv7V934F8E/tIeKfiL%2Byn4Zsrr4CeHrnXLGw03xKt0PEVmumT6hD5kjWEf2GR1h2sgFwE353PjFXdB/aNj1/8AZZvv2krLwr%2BzdLbWOqFLjVLb44CTwxbWKqgeafWRooEM6ysUMH2cqPlJlBbaoB2X/CD/APBQv/o6D4M/%2BGH1b/5qKoeB/HH7Vng79qzw58Efjd8R/h74m0bxN8PfEOuQzeFfh5faLdWl1pt9oluis9xq98ksbpqkpKhEYNEhDYyDp/Av4i%2BEv2g/2WNI/aH0f4ZW3h2bXPD8t/aQRojmJk3hJoJ1RDNA%2BwSwzbU82J432ru2iPxx/wApC/hf/wBkZ8ef%2BnbwhQB7NRRRQAV5t%2B1l%2B0rpX7I3wR1b49eI/hf4r8V6ToMMlzrVp4Phs3ubOzjikmmu3F5c26GKNIzkK5ckqFRicV6TXjP/AAUE%2BE/xq%2BPn7H/jz4DfATRvC13r3jfw3e6F53i/xHc6ZaWUN1bSxNc%2BZb2V28joWUiLy1DAn94uBkA7D49fHTw/8AfB1p4n1fw1rGvXuq63aaP4f8OeHo4GvtWv7l9sVvD9olhhU4DyM8sscaRxO7OoUmvKvEP/AAUs%2BE%2Bj%2BBtJ8YaN8JfH%2BvXl5pviDUNd8M6Nptk%2BpeG7TQrtbLWJb1JbtIyba6YQmO2knlnbJt0nUFhq/Gz4YftL/GbwV4S8Ujwd4F0fxt4C8Y6Z4n0TSR41vLrTL%2BdIbi2vLOa7/syOWBDb3U6xzrbyHeUdogFKHyKX9hH9q/wZof8Awmfwz1j4f3XjbxZoPjrTfHFtrWr3sOm6ZJ4j1garHc2UkdnJJeCxbfB5Mkdv9rUhzJbEbSAfZOh63pHibRLPxJoGoRXdhqFrHc2V3A25JoZFDI6nuCpBB9DXz38JvFX7d/x10fXvHfhf43/CTQNLt/iF4q0PS9Kv/g/ql/cRWul69f6ZC0twniKBZZHjs1dmWKNdzkBQAK9e0L4K%2BF9G%2BBmlfAA6nrA0jS/Dlpo0d3pmt3OnXphghSJWS5s5IpoXIQfNG6nk815N%2Bw54d0/wr%2Byle%2BD9Mub%2BWztPjT44sUk1LVbi9uZYf%2BE81aMiW4uHead2TIaSR2dySWYkk0AdH/wg/wDwUL/6Og%2BDP/hh9W/%2Baij/AIQf/goX/wBHQfBn/wAMPq3/AM1FP1/9qD/gn74U1298LeKf2iPg5pup6bdyWuo6dqHi7SoZ7WeNikkUkbyhkdWBVlYAgggjIqp/w1//AME4P%2Bjovgj/AOFto/8A8drleOwKdnVh/wCBx/8Akj3ocK8U1IKcMvxDTSaaoV2mnqmmqDTTTTTTaaaabTTLH/CD/wDBQv8A6Og%2BDP8A4YfVv/moo/4Qf/goX/0dB8Gf/DD6t/8ANRT9A/ag/wCCfvivXbLwt4W/aI%2BDmpanqV3Ha6dp2n%2BLdKmnup5GCRxRxpKWd2YhVVQSSQAMmr37VfxL%2BFX7KH7N/jX9pLxT8Ll1bT/BXh641W603SNEE1xcrEudiLHGxGTjLkbUXLuVVWYa0q9Cum6c1K3Zp/k2efjsrzPK5xhjcPUpOSulUhOm2trpThBtX0uk1fS99DO/4Qf/AIKF/wDR0HwZ/wDDD6t/81FH/CD/APBQv/o6D4M/%2BGH1b/5qKo6T%2B1h%2ByBrvjSX4caX4b16XxBa%2BHF13UNEPwc1xbrT7B47t4pbqJtPDWrSixulijlCSTPGI41d5I1ZdM/ac/Zg8TSeHf%2BEV0ywQ6z46m8K3th4l8Jajo%2Bo2N9Ho11q5hayubATJKbW3WZVuFt43hk8xZWYxRzanCXf%2BEH/4KF/9HQfBn/ww%2Brf/ADUUf8IP/wAFC/8Ao6D4M/8Ahh9W/wDmoqh8FP2v/wBhf9oLRpvEfw28TaX/AGdF4f0/XUv/ABF4Ru9FgudLvmZbW9gk1G2gW5t5HUoJYi6h8ISGIFXf2jfiI3wr1/wf8NPhB8APDXi7xn42vbxNK0vWtVXSLGC1s7Vri5uZ7pLO6dAP3MSqsLlpLiPOxA7qAO/4Qf8A4KF/9HQfBn/ww%2Brf/NRR/wAIP/wUL/6Og%2BDP/hh9W/8Amorn9e/aj%2BFNt%2BxPoH7ZHhn4LWd1H4ottATSfDupCC0aG%2B1e%2BtLCC3u7gJItvHFc3aLPMFkEaRyOFcKAeKtf21zr%2Bp23wi8Ifsy%2BArv4nxePdX8K67ot144EOg2Fzp2mQapMV1UaY8szNa3loyx/Y1cM8wcIIHagD1X/AIQf/goX/wBHQfBn/wAMPq3/AM1FH/CD/wDBQv8A6Og%2BDP8A4YfVv/moryvxh%2B2ZrN18Cfhh%2B058B/2V/h/4q8HfFA%2BGbbSYNX8cPp2ri%2B1i8it/s8dtDpF1BMtusvmyS/aVGyGc4Cxh36fVv2n/AAr4O/a%2Bt/2XvHPws%2BG3lX%2Bn3%2BoQ3Hhvxkuo6zpVhbWxuBf6tpR0%2BL%2Bz7SQKYlmE8wMskKAHzMqAdb/wg/8AwUL/AOjoPgz/AOGH1b/5qKP%2BEH/4KF/9HQfBn/ww%2Brf/ADUVzn7En7SPgv8AbM0DUPHWkfDz4ZWuiC1tLnTLXw/44t9Z1i0juFeRIdXso7ONNLufL8tjAJ7jDF1LAx5b3TwYNmhmBSdkN9dxRAnO1EuZFVfoFAA9hQB5d/wg/wDwUL/6Og%2BDP/hh9W/%2Baij/AIQf/goX/wBHQfBn/wAMPq3/AM1FezUUAeM/8IP/AMFC/wDo6D4M/wDhh9W/%2Baij/hB/%2BChf/R0HwZ/8MPq3/wA1FezUUAeM/wDCD/8ABQv/AKOg%2BDP/AIYfVv8A5qKP%2BEH/AOChf/R0HwZ/8MPq3/zUV7NRQB4z/wAIP/wUL/6Og%2BDP/hh9W/8Amoo/4Qf/AIKF/wDR0HwZ/wDDD6t/81FezUUAeM/8IP8A8FC/%2BjoPgz/4YfVv/moo/wCEH/4KF/8AR0HwZ/8ADD6t/wDNRXs1FAHjP/CD/wDBQv8A6Og%2BDP8A4YfVv/moo/4Qf/goX/0dB8Gf/DD6t/8ANRXs1FAHjP8Awg//AAUL/wCjoPgz/wCGH1b/AOaij/hB/wDgoX/0dB8Gf/DD6t/81FezUUAeM/8ACD/8FC/%2BjoPgz/4YfVv/AJqKP%2BEH/wCChf8A0dB8Gf8Aww%2Brf/NRXs1FAHjP/CD/APBQv/o6D4M/%2BGH1b/5qKP8AhB/%2BChf/AEdB8Gf/AAw%2Brf8AzUV7NRQB4z/wg/8AwUL/AOjoPgz/AOGH1b/5qKP%2BEH/4KF/9HQfBn/ww%2Brf/ADUV7DfX9jplq99qV5FbwRjMk08gRFHqSeBXlXxE/b0/Yr%2BFAdfH37VHgOwmjzvsx4mt5rgf9sYmaT/x2sa2Iw%2BHjzVZqK82l%2BbR6OXZPm%2Bb1fZ4DDVK0u1OnOb%2B6EJfjYp/8IP/AMFC/wDo6D4M/wDhh9W/%2Baij/hB/%2BChf/R0HwZ/8MPq3/wA1FeaXX/Baz9ge7uHtPAXjTxR4vmRipj8L%2BA9Tny3oC8CKfqDio/8Ah6fr/io%2BV8Hv%2BCdf7QniEn/V3d/4JXTLN/pNNKf1WvP/ALcyh/DWUv8ADeX/AKTGR9evCvxEir1stqUV3rOnQXz9vWpP8Pken/8ACD/8FC/%2BjoPgz/4YfVv/AJqKt/srfEb40%2BMNY%2BKHgT46a/4X1bVPAPxCi0Oz1Xwn4audJt7q1l0HR9TVnt7i9vGWRZNRlQsJdpWNDtU5z5N/w1r/AMFRfE//ACKH/BK630qBv9XeeJ/jDpynH%2B1DFHvX6Zrof%2BCdesfGXX9b%2BPOr/tA%2BD9I0DxdN8ZoDq2kaFqBurW3x4R8NiIJKQC5MIjZvRmYDgV0YbMKOLm4wjPa93CUV98kvyPHzvhHMuH8Kq%2BKrYd3fLy08TQrTWjd3GjOdkrWbctG0up9J0UUV3Hy4UUUUAFFFFABRRRQAUUUUAFFFFABRRRQAUUUUAFFFFABRRRQAUVj/ABA%2BInw/%2BE3g6/8AiJ8U/HWjeGfD%2BlxCTU9d8QanFZWdohYKGlmmZUjBZlGWIGSB3p1p4%2B8Cah4Ei%2BKNh410mfwzPpK6rD4ih1KJrCSwaLzhdrcBvLMJiIkEgbaV%2BbOOaANavl/9oHWP7M/4Ky/s02W7H9o/C/4mW%2BPXEvheX/2lX0F8Nfin8MfjP4Qt/iD8HviPoPizQLt3W01zw1rEF/ZzMjFHCTQMyMVYFTg8EEHkV8p/ti6udK/4LG/sYwlsJe%2BGvihbufrYaM4H/fSCuXGT9nR5vOP4yiv1Pc4dw31vM/Zf9O6z/wDAaFaX/tp9lUUUV1HhhRRRQAUUUUAFFFFABRRRQAUUUUAFZfjn/kSdY/7BVx/6LatSsvxz/wAiTrH/AGCrj/0W1AHIeOf2Rf2UPih4puvHPxL/AGYfh54i1u%2B2fbdY13wVYXd1cbEWNN8ssTO%2B1EVBknCqAOAKyf8Ahgf9hX/oyz4S/wDhudM/%2BMVyPxz/AOCrX7A37NfxT1T4KfGv49f2L4m0XyP7T0z/AIRbVbnyfOgjnj/eQWrxtmKWNvlY43YOCCByX/D83/gll/0dF/5ZOuf/ACFXh1sZw1GrKNWdHmTd7%2Bzvfre6vfvfU0XiRiMCvqyzqdNQ93lWKqRUbacvKq6UbbWSSW1ket/8MD/sK/8ARlnwl/8ADc6Z/wDGK9UvrOHUbGbT7nPlzxNHJtODtYYP86%2BUP%2BH5v/BLL/o6L/yydc/%2BQq%2BqPEGqzaFoN9rdvot5qUlnZyzx6dp6obi6ZELCKIOyqXbG1dzKMkZIHNdmBr5VW5vqUoO1r8nL8r8qXna5MuKavEvx4%2BWJ9n3rTq8vN25qlTlvbpa9uttPnv8AZv8A2EfGfwVHgZfF/wAeLXWm8AfBu5%2BHGi3OheE30udtPZ9O%2Bz3Tu97cj7VGunjcyhUd5QypEE2N5Z8HP%2BCNR%2BFyX8k3xn8KpcX1t4BguZvC3wrTSTft4Z8RJrX22%2Bb7fNJe397sMM1y7jBIkCHBjPsV/wD8FIPgSPAVz8SPDWk6vq%2BlWnw20Dxvc3gv9K06CHTtZnliso5LnU762t4Z2EE8jJJKqqsX3izxo/nfin/gqx4U1rwfpHxm%2BEbW0vga%2B%2BCHxI8Yajdy6dFql9aaj4Y1XRNPMEa22oJa3UYkvr4MI7ny5zFC0VysZ3v6BJ6J8P8A9h3UPhzf%2BCdY0b4rwS3fgnxV461y1Nx4dJjuZPEV/e3ixuq3IIW3a7CkhszCPP7rd8vb/tCfAnxH8cfhzomlad4%2Bs9D8XeGfEOm%2BINA8R/2G1zaQ6laOCTJZm4RpLeVGmheITq4jnbbKrgOPMvHX/BQK7X9oHwP8Hvhh8J9cudF1r4xT%2BBtd8d6nYQnSpbm20jULy6trQx3YuVnimtEjMstuLcmOeNWZwMehftJ/tDal8K/2arn4y/DzQTc6pqN5pOl%2BGbPxHp1zZKt/qmo22m2jXUEqxzxxrPdxPIhCPsVgNpwQAYHh39i9h%2Bzb4m/Zo%2BIvxBttd0v4i2fir/hZmoQaE9pPql1rkszzvaf6S62UMa3E0SROLhvLWEGUsjvLjaX%2Bx5%2B0DF4P%2BJOteJf2l/Der/Ez4g%2BFNK8LjxhcfDeaPTbHSLD7X5aNpqaoJJp2Oo6lI0ouo1825QiMJF5TdX%2Bzb8cfiF4mtPib4P8AjrNodz4h%2BFPjE6LrGs%2BF9KnsrHVIX0jT9XhuYrWe4uJLciDUY4mjaaT95A7BtrKB892//BRn9qPwz8EJvif478I%2BCLu%2B8XfBKz%2BJXgOy0jTbuIaNbS3dpDPYXyvdu2pzW8eo2kitbm2a7dZYY4o2aNiAej%2BN/wBiz9p7xT%2ByB8Of2ZNN/ae8BWepeBtb8NX954ln%2BEd7NBqS6BqljqOnRpaDXUa3JfT4UnYzy%2BYrSbFgJXb2Xxb/AGcPjp8bvFPhuz8d/HbwxF4N0LxRoPiObSNH%2BH08Gqzahpk8F2qx6hJqUiQW0tzAC8f2ZpDBJJAZiHL14pqH7dP7VupfsPfFD9oXwRe%2BBDr3ws8Y3drc3HiL4daxpa6xpdvYW9y6yaJc38d/o920lyI1W6lbMUa3IjaO4iWu0/ao/br1D4R/tO2/7PWj/EDw34OtdH8Gaf4p8WeJPFHgHVteg%2Bx3t/d2cEedPngj0yFWsLky393J5MRkgGxt7FQCDxx/wTC0H4s/EH4jePfiH4o8JaZc%2BNPCHiPw7pt98OPhxHoWpW8eroIXvtQvGurhtUvoYFWOOUrBGPMnJiPmARt8VfsEftJ%2BJvBfj9rP9r7w/oXjT4jQ6Dpeua/4a%2BGVxY2Eeh6YJwbOG0j1fz4bi4S5mikvEu1kSIosKxNFG69N41%2BMf7TXgj9t/wAGfBp/iJ8O7/wV4g0nXvEXiGwPga9tdS0PQrCGGJJX1FtWeBpGvbyzXLWiK0S3BABjJHl0v/BSP48X/hH44/EjRvh14fg0Twpo/hbWPhfHdWN095c6Tq13dWv2%2B9gEytdO0dt9tgsoBDPIk0Vt/r34AOv%2BOX/BLT4e/tG/s7wfC74h%2BKRoPiyw8Bz%2BEdI8RfDC51vw1pFhprShorddGttXMcsKKkAMU0sisYgflXai7evfsCajffFafU9D%2BND23w%2B1nxr4a8YeKvB%2Bo6RNf6lqOt6FDYR2My6tNeF0jP8AZOkvMssM0srWRPnL5r14/c/8FJv2hj8JNK1iKLRI7%2B6%2BLGr%2BFbvxNb/BnxFfXS2tnpbXySt4OhuxrNtPI48to5JCY4kW6ZRFPHj0rwp%2B1n%2B0d4nl/ZT8fz2/gK18MfHIRWPjDRLS3nv7u0v5PCmsa55tjqEV2LfyEk0yOLa0MxdZXIkXAJALth%2BwR4o0v42%2BMf2k9A8d/Drw/wCOdS8Pa3p3gvW/CvwfSy%2Bw3OoPE41LVwb%2BR9cuovs8Cqxe2QqbgbB52U0/gH%2By7%2B07%2Bzx8A0%2BFPg79oP4dz6%2Bmsm/n8VXvwo1GX%2B1ZJQ7XlxqETa8Zbq8nmbzTcLcRquNoiK7QtjXPjJ%2B0b4L/AGvvDPwQ1fxP4D1zSPHFvrV1YaPo/he9h1Xwzp9pDuh1K8uHv5IruBp2gtmVYLY%2BbdxhHYI9eV%2BJv2xP2yPha/xq/wCEr8S/DPxNpfwz1LwhoSeKtK%2BH%2BpaXa6TqeqXUDanc30TavdtNZ6bpt9p9/JskhLLJKrPEqGQAGnrf/BMLxtF8PrTwh4H/AGkdNtrq/wDBvirw34xn8Q/D4alaXdt4g1R9SvX0%2B1W9hXTWSaSSOFGa5iWFYY3jl8lWrfm/4J3a5F8T/wC0dM%2BO0f8Awg8/j3w34xvdC1HwubnW/wC0tFsbGzto4dWN2qw2rjTrd5Yzau7GW6USqs5VfPtU/wCCpHjO6/ZM8e%2BJfhRd%2BCvHPxN8L%2BIdd0bQdS0exuYvDurx6dpsGqza2IftMkq2EVlcw7gtyyyzvDFHOBcxPXQ%2BO/8Agodr2n/HXw98II/HfhbwdbWngbwz4k8Z6zrvgDV9at5jrFzcQRWqzWVxDDo0YNo4%2B23rvEXuYlVHMclAHoPgL9mj9p3wX8cvi18X5/2h/AV5bfEa0iXRtJHwpvEbR57WLyLJ55W1thexrCWE0ax25mchkeADYTwN%2BzF%2B0f8ADn/hNPiB4Y/aE8Ej4hePvFNnqniHVbj4WXJ0T7PbaellHBDp0esJOspWKN2uHvJGYrt2hAip5v4C/b8%2BOXif9s%2B8%2BAuo6BoSaM3inxNo1rp//CIalA8MemWzzQXUOuPcHT9WnmKKZNNtY1ubZZZDKR9klza/ZZ/b98d65%2BzLf/FP9pTWdMvPiDZ6BoNxefCrSPhVrHhHVrDVdTTy7bTPI1m7mku/tF7utYbtVjgZoZTuIRygB7T8HPgbF%2Bzh%2By6fhCvimTWpLCx1W6u9Te0W2Sa5u57i8m8qBSwt4BLO6xQhmEUSogZtuTl%2BOP8AlIX8L/8AsjPjz/07eEKpfsnfGf4rfHz9ji5%2BIXxwsPD9t4rj1LxXo2tReFYZ00/zNM1jUdNDQid3k2storEs2SWJwoIUXfHH/KQv4X/9kZ8ef%2BnbwhQB7NRRRQAUUUUAFFFFABXgv7H/APyb1q//AGXvxz/6sDVa96rwX9j/AP5N61f/ALL345/9WBqtAHWa/wDsTfsZeK9dvfFPin9kf4Y6lqepXcl1qOo6h4B06ae6nkYvJLJI8JZ3ZiWZmJJJJJyaqf8ADA/7Cv8A0ZZ8Jf8Aw3Omf/GK878f/wDBZT/gm58L/Het/DTx1%2B0d9h1vw7q9zpmsWX/CIaxL9nureVopY98doyPtdGG5WKnGQSOayP8Ah%2Bb/AMEsv%2Bjov/LJ1z/5CrwZ43hhTalOje7vf2d79b6b3vc0/wCIm4mh%2B6WeTjy6W%2Bt1Va2lrfWFa1rWsrWtZWsvZtA/Ym/Yy8Ka7ZeKfC37I/wx03U9Nu47rTtR0/wDp0M9rPGweOWORIQyOrAMrKQQQCDkVrftNfBOy/aT/Z08d/s96hr8ukw%2BN/COoaG%2BqwQCV7P7VbvCJghIDlC4baSA23GRnNeNeAf%2BCyn/AATc%2BKHjvRfhp4F/aO%2B3a34i1e20zR7L/hENYi%2B0XVxKsUUe%2BS0VE3O6jczBRnJIHNe4/HX4w%2BHP2ffg94j%2BN/jLTNRutG8K6VLqWsppUKSTxWcQ3TzBXdAyxRh5WGc7Y22hmwp9DA1strQk8HKDSevJy2v58qWtu5MuJKnEn72eNeJ5NLurKry31teVSpa%2B9k1fe3U8j8RfsTfELx/oPxdl8e/H21i8SfFv4d6b4Zvta8J%2BFZtNh02SzGohbmKKS%2BnkZHF%2BA0RmBxE2JB5g2cP8Ev8AglNB8IvEcPia3%2BJHhHTwvxcXxy%2Bg%2BA/hfHoOkQMPCN54cNnb2qXkvlBvtQu2lZ5GZ1ZCPnDp6J8Z/wDgoh8Hfgtpfi7XNU8OanqFj4K8W2fhvWNRHiDQdKtHv7jTYtRCQ3Or6lZwybIJ4AwD798wVFfZIU5G1/4KO6T4p8fR3/gm4tLjwFrngz4Sa74R1WLQpJ7y6/4TDxBq2mlZke7hWOMRWdmVYAvA0kzslzhYK7iTq/gb%2BxR4h%2BAUfgS78I/Fyyub/wADfA3Svh1by6h4Xdobv7HJAxvmjS7Vl3rCwEIc7C4PmNt2t1n7RvwC8cfFTxB4P%2BJnwf8Aifp3hHxn4Jvbx9K1TWvDT6vYz2t5atb3NtPapdWruD%2B5lVlmQrJbx53oXRvMfB3/AAUZ/wCFl/tEeDvBPhD4Q%2BJbPwF4k8FeLNftPFeqaEJ38QQ6TcadDHPpcdlczTtG/wBqlbyp7dJ5laBokIJz6R%2B1J8aPiB8PdG8C%2BFvg4mkQ%2BKPiT43t/Dmhah4o0ye4stNzZXmoz3M9rHNbyzbbWwuAsQliJkZAWUZoAreF/wBl3WPh5%2BzFZfsteCfFfhq/0TS/AtpoNmfHHgxtWS9uEBW4ub%2BFLuCO6inXG63UQ4ZnPmFWVE840z/gmvb%2BFv2fL74O%2BFJvhBLfeIfHDeJ/E58SfA6K/wDD4ufscVnCNO0ZdQiSwMFvbWccTNNOQIGLiRpGYdLoH7WnxSuf2DfG/wC0dJ8N7TW/HPgOHxfp934e0OKcW2raroN/f6e5t0/ezLDPLYmVIwZZVSUJmRxzyHwD/bI%2BJf7Qui/Enwf4E/aY%2BD%2Boar8OZdM1C4%2BKGj%2BCL278NXulXdpNKyrarrKss0MlvcI8q3siDy%2BUV96RgHonhX9iLwt4Lj%2BBnhfQ/GNy/hb4GWFwdK0a9s1km1TUzpx0631CaZWVVaOC41AsgjIeS8VwY/JAZfF37L3xN%2BLPxz8P/ED4z/F/w/qXhPwfquq33hnwxofgiawvX%2B26fdacYL6/fUJluoVt7yY7Ire33ypBI3MQB%2BZfiL/wUy/bG%2BGv7MPwx%2BKvifw54Qttf8YfCnXfHV61r8M9Z1CCdIJbaXTrCS0tdQaXQkks7uI3Op3k0tpayqwfaGUV9LR/G7452f7bfgv4Q6tceD5PAfjj4W654gsrax064fVLK%2B0240OI7r77SYJ4JBq0uFW3Vh5KN5hDFaAMv9kD9hjVf2YvEem6xr3xU07X7fwt8NdP8BeDLTSPCI0k22iWcpkiN832mYXt39wGVFt4lxIUgTzWr3Lwf/yCZv8AsK33/pXLWpWX4P8A%2BQTN/wBhW%2B/9K5aANSiiigAooooAKK88%2BNn7Wn7M37OEHm/HL46eGfDMhTellqWqxrdSL6pACZX/AOAqa8MP/BXn4X%2BPZWg/ZY/Zs%2BL3xaTJCat4W8ETQ6bn/auLryyn12VwYjNMuws%2BSpVSl/KtZf8AgMVKX4H1mUcCcY57hfrWCwNSVH/n5JKnS/8ABtWVKl9036M%2BtqK%2BSJP2jP8AgrL8U1%2Bx/Cz9gTwn8P45uINb%2BJvxCjvEUf3ntLBRMv0yaYP2F/24/jP%2B/wD2pP8AgpH4msLWX/WeHPg7pMOhRRDugvCGnlU9PnXOKw/tSdXTD0Kk/NrkX3zs/uiz1v8AUPD4H3s5zbC4dfywqPFVPlDCqcb/AOKtE%2BnPHPxT%2BGPwwshqPxL%2BI2g%2BHbcqSJ9d1iG0QgdTulZRXhvj3/grr/wTi%2BHcxtdW/aq8P6hNu2pD4ciuNVMjdgps45VOfrj3qr4D/wCCP/8AwT/8GXp1zWvggvjDV5SGutZ8d6rcatPcMO7rO5iz9EFe6eAfgp8G/hVCtt8L/hL4Z8NxquFTQdBt7MAemIkWi%2BeVelOn/wCBzf4ckRcvhXgNHLG4trssPhYP05vrNVL1V/JM%2Bbz/AMFavDXjL9x%2Bz5%2Bxn8c/Hzyf6i90/wABvZ6efQtcXDrsB9StC/tDf8FbviH%2B%2B8BfsCeCvBVu/wDqJ/iB8SEu3YdmaKxUMn%2B6eRX1tRR9Qx9T%2BLipekIwh%2BNpv8Q/1s4TwemAyGi3/NiK2IxD/wDAVLD0/wDyVo%2BSx4G/4LV%2BKv32t/HT4C%2BFN3/LHw74Z1K%2B2D63ZGT%2BlH/DK/8AwVb1b95qf/BVXStKJ%2B9FpXwP0yZR7BppM19aUUf2PQfx1ar9as//AG3lF/xEbNKf%2B74HA01/dwOHf/p1Vn%2BLPkz/AIYn/wCCi8n7yf8A4K764ZD1Mfwh0hV/75D8Un/DE3/BRdztm/4K764V9I/hFpCn899fWlFH9i4LvP8A8G1f/kw/4iZxN/z7wv8A4Q4L/wCZj5L/AOGA/wBs/Vv3Xi3/AIKx/EOaLuNH8J6dp7/99JuNB/4JSza4d3xC/wCCh/7SmtA/ftU%2BJQtbdvrHHB/WvrSij%2BxMtfxRcvWdR/nUD/iKHGsP4NenS/694bCU/wAY4Vv7mj5Psv8Agix%2BwbdXaah8RvCPinxvcRNujm8X%2BO9SuSD67UmRT%2BIIr1X4d/sEfsU/Chkm8A/sreA7GeP/AFd4fDVvNcL/ANtpVaT/AMer1uitqOU5XQlzU6EE%2B/Kr/e03%2BJ52Y%2BIPHebUvZYvNMROH8vtqij/AOAQlTjby5beRHa2lrY2yWdlbRwwxrtjiiQKqj0AHAFSUUV6B8i227sK8Z/Zf/5Lf%2B0d/wBlmsf/AFCvC9ezV4z%2By/8A8lv/AGjv%2ByzWP/qFeF6BHs1FFFABRRRQAUUUUAFFFFABRRRQAUUUUAFFFFABRRRQAUUUUAFFFFAHK/G7xF4e8JfCfXfEXinQtU1OytbItJZaL4au9YupHLAR%2BVZ2cM08zBypxHGxXG7gKSPkPwjbeKPiZ/wRj8E/BPQfhN47Hibw78J/CcfiPwfr3w/1XSrq8j0ptP8A7U0xUv7aESyyx21zAsWT5wcFdyNur7mooA8E/Yng1XXfGvxr%2BMkHg3XtB8N%2BO/iZb6l4Ws/Evh660i8uYYfD%2BkWM949leRxXFsJLm0nULLGjOIRLjEisfmz9vM/FTwx/wWN/Y91/xv418P3%2BiXOo%2BMrbwzYaV4Znsrqwjmi0eKRbq4kvZku2bem1o4bcLtbKvuG39Dq/PD/gr3qR0X/go7%2Bw7qoJAHjzVbdm9Fm1Dw9Gc%2B3zV5uby5MunLs4/wDpdM%2B28OqH1rjHD0f54119%2BFxf%2BR%2Bh9FFFekfEhRRRQAUUUUAFFFFABRRRQAUUUUAFZfjn/kSdY/7BVx/6LatSmzwQ3ML29xErxyKVdGGQwIwQR6UAOorKXwZoyKEjuNTVQMKqa3dAAegAk4pf%2BEP0n/n71X/weXf/AMdoA1KKy/8AhD9J/wCfvVf/AAeXf/x2j/hD9J/5%2B9V/8Hl3/wDHaAPAtB/4JffAnwj4E8S%2BC/Bvjrxnpc%2Bv/FCDx3Y65De2U13oF9byxyWtpZLcWkluLG32MsVvNFMFEshyWIYVf%2BHVfwJn%2BHl78O9X%2BJXj7UU1Lwn4%2B0DUdVvtVs3vLiLxfqtpqmq3DMLQJ563FnH5JCBER3Vkk%2BUr9D/8IfpP/P3qv/g8u/8A47R/wh%2Bk/wDP3qv/AIPLv/47QB43L/wT/wDh03xs0v4wW3xX8c29jovxEuPHOm%2BBYL%2ByGixa5cWNzZ3Nzg2humWVbu4laI3BjEshdFUk59B%2BJfwJ0D4xfBC8%2BB3xJ8U6zqcF9ZxRy6%2BJILfUUuYZEmgvUaCFIY7iKaOOZCsQQPGp2EcHo/8AhD9J/wCfvVf/AAeXf/x2j/hD9J/5%2B9V/8Hl3/wDHaAOJ%2BDf7NWn/AAZ0%2B7Sx%2BKvinXNS1zxZN4g8a67ry6c914ouXsFsFS7ENnFDHFHBDZqi2sduR9ggUkoZUl810L/gl38EtH8D3/gG%2B%2BJnj3VLRPD%2Bl6F4Mn1DVLPz/Bem6bfR3%2Bn22mPFaJxBcw20gkuhcyyfZIFleREC19Af8IfpP/P3qv8A4PLv/wCO0f8ACH6T/wA/eq/%2BDy7/APjtAHhnjX/gnZ4b8c/AXxz8DtS/aU%2BJcFx8TdfOq/EHxtbnQzq%2BtsbGCwEDiTS3s4IRbWtpGBb20TD7Op3bnlMl74u/sB%2BDfjfYG08ffG/x5LLq/gpfCPxCvLR9Kgk8c6KJJX%2Bx6kEsAkak3N2N1ito4W7mAYBhj2X/AIQ/Sf8An71X/wAHl3/8do/4Q/Sf%2BfvVf/B5d/8Ax2gDmY/2efh9N8YfFfxp16O41jUPF/hOw8Nahp2riKaxg0y1kvJPs8URjGFle%2BmabeX8zEYOFjUDyX/h0x%2BxJoup%2BM9a%2BFnwl0zwBeeMrTQEa68A6FpulNo8%2BjagNSsbuz8q1wkovEt53Eoljka0gDRlVIb6A/4Q/Sf%2BfvVf/B5d/wDx2j/hD9J/5%2B9V/wDB5d//AB2gDw9P%2BCd/hK0li8XaN%2B0N8SLDx%2BPFd54gvfidbzaQ2rX1zdafbabNHLDJpzaf5Js7KxhCJaLsFnEykOGZna5/wT18LyWHwe0L4e/tD/EXwZpPwSnS58J6VoJ0W4jubsafeac9zdyajpt1NNJJaX93G%2B2RFJmLhRIquvt3/CH6T/z96r/4PLv/AOO0f8IfpP8Az96r/wCDy7/%2BO0AeW/DL9jlfhf8AtIeLf2ktP/aO%2BIGp3fjW/FxrnhzWYdEmsTDHC0VrZRSrpi30Vrbb2eKFboKJHkdt7TSmTd8I/s1aV8O/ht4n8B/Dr4neKNE1HxX4q1PxDqHjC2NjNqkd9e3jXLsn2i1ktikaFLaNZIHC28MaHcy7z2v/AAh%2Bk/8AP3qv/g8u/wD47R/wh%2Bk/8/eq/wDg8u//AI7QB4l4s/4Jk/sj/E74Nal8I/jh8OLD4g3erPq9xeeN/HGhabqGtrf6kipdX8Mr2vlWs5WK3VfIijjRbW3RYwkSKI/FP/BNX4Da5plh4W8M694h8J%2BHF8H6V4V8SeFvCi6fa2HiXRtOnmmtLK7VrR3iRWubsE2j2zut1IrMV2hfcf8AhD9J/wCfvVf/AAeXf/x2j/hD9J/5%2B9V/8Hl3/wDHaAPHvD37A/gDwz8TofiFp/xZ8cNYaZ4s13xV4Y8Hy3lidM0DXdYS9W/1K2ItBctK/wDaWosEnnmhRr2XbGPlCy6P%2BwL8GNYv/EOs/tI3158br7xLY6bY38/xa0TRr2FLSwluZrWCO0tbC3tFCTXdzJ5nkmVmk%2BZyEQL65/wh%2Bk/8/eq/%2BDy7/wDjtH/CH6T/AM/eq/8Ag8u//jtAHm3wP/ZP%2BCP7Gf7POv8Awg%2BAfg%2B00XRLi/1zW5be00%2B2tg1zfTz3LgrbRRIUjEiW8QK5SC3hjJbYDVbxx/ykL%2BF//ZGfHn/p28IV6ifBmhvhZ2vpkyCYrjVrmRG9mVpCrD2IIry7xx/ykL%2BF/wD2Rnx5/wCnbwhQB7NRRRQAVx/xp%2BPPwx/Z%2B8O2XiX4narfwx6pqiabpNlo2gXuq32oXbRySiC2s7GGa4uHEUM0pWONiscMjthUZh2FeJftbeDficfHfwo%2BOvwx%2BGV/42k%2BH3i2%2ButW8KaRf2Vte3VpeaRe2Rmtmvp7e3Mscs8JKyTRgxNNtYsFRwDrPEP7U3wH8NfBrRPj9deOvtnhbxMtkfDV5oml3Woz6u12AbaO1tbWKS4uZHByI442cAMSoCsRzfi79v79lPwT4N0Tx5rfxA1KXT9f07UdQsk0rwbq1/dQWmnyJFf3F3a21rJPYx2srpFcPcpEsEjeXIUf5a8r8P8A7OnxE8O/sReEfhn4z%2BEnjyXxp4H1i18R6VP8NNb0Fb2w1a5nuJ5Rp8mq3C2kqWq3k9rILtFjliL7EkyBXhfjT/gnf%2B0Rb/B/QdD8V/CLxt42udT0L4kT3UPhT4k2el6xpOseJNaXUbeLVLv7XZw39iIiVureLzrWS4jLfY54xCIwD9J9N1LT9Z0631fSL6G6tLuBJrW5t5A8csbAMrqw4ZSCCCOCDXhX7H//ACb1q/8A2Xrxz/6sDVa9N0fwX46ufgjpvgPWfH0uheI08PWtpf8AiHwlZWim2u0iRZZbWK6t5YFXeG2q8LKFIG3jjzP/AIJ7%2BGpLT9mPUfCviPxDe6/Jb/Fr4hQXWraokCXN86eNNaBnkFtHFEsjEbj5Ucahj8qqMAAHvVFZX/CH6T/z96p/4PLv/wCO0v8Awh%2Bk/wDP3qv/AIPLv/47QBqVU17QtH8UaHe%2BGfEWmw3mn6jaSWt9Z3Cbo54ZFKPGw7qykgj0NVv%2BEP0n/n71X/weXf8A8do/4Q/Sf%2BfvVf8AweXf/wAdoA%2Bf/A//AATC%2BFHwz%2BEngP4Y/D340/EbS9Q%2BHut6nqml%2BORqen3OtXsuoRzxXQupLmykhk3RTeUrrCksaQxBHTaSZ/A3/BMT4B/D/wANeHvCuieLfGElt4a8NfDzQ7BrvUrZ5HtvBuq3eqaW0jfZxuklnvJVuG4DoqCMQsC7e8/8IfpP/P3qv/g8u/8A47R/wh%2Bk/wDP3qv/AIPLv/47QB4l8N/%2BCeHgT4VfEHSvH3hH45fENF8LeHNd0PwJolxe6bJY%2BFrLVZraaZLRDY75TE9pB5JunuNipsO5Plr0b45/APRPjv4N0vw5q/jTXdE1TQNatdY8PeLNAe1XUdM1CAMq3MQnglt2LRyTROkkLxvHNIpTB46f/hD9J/5%2B9V/8Hl3/APHaP%2BEP0n/n71X/AMHl3/8AHaAOM%2BGf7OGnfCD4aWvwv%2BH/AMUPFNlaQafrAu75msZbq/1TUrs3lxrMzyWrA3ouZLmYBFW3LXku%2BBwIhHzE/wCwx4H1r4OfEb4T%2BOvix428RXnxYtWtPHXjTUrqxi1e%2BtDbrai1Q2tpDbW8Itw0QSGBMedLJ/rZGkPrX/CH6T/z96r/AODy7/8AjtH/AAh%2Bk/8AP3qv/g8u/wD47QB5b%2B0J%2BxR4K%2BPutQ6/bfFDxh4IuT4QvPCmqt4JuLGJdU0S5ZGksZVu7S4Eagp8ksAhnj3vskXNN1X9jGwuf2h/BPx/8OfH/wAdaBD4A8NT%2BH9B8D6VBoraP/Ztw9k9zbyG402W8YSnTrPLC5V1EOI2j3Pu9U/4Q/Sf%2BfvVf/B5d/8Ax2j/AIQ/Sf8An71X/wAHl3/8doA1KyvB/wDyCZv%2Bwpff%2BlctYHxM8SfB74M%2BEbnx58WfiOPDmjWo/f6lrPiue3iU9lDPMNzHHCjJJ4AJr5rg/wCCgPxv/aRb/hDv%2BCZH7NUuu6RG7RN8VfiGk%2BmeHITk5eFCBcXxz12hWB5KkHNcOKzHCYOShN3m9oxTlJ%2BkVrbzdl5n1GQ8G8QcRUZ4nDU1DDwdp16slSoQ8pVZ2jzdoR9pUfSmz7GmmhtoXuLiVY441LO7tgKBySSegr59%2BMv/AAVM/YZ%2BCmp/8IzqvxysfEGvM/lweHPBUT6xeyy/88ttqHVH9pGWuFtf%2BCX3i7483CeIP%2BCiP7U/ij4nMWEn/CE6HO2ieG4D1C/Z7YrJOV6CRmRiPvA5r6G%2BDX7NH7Pn7PGm/wBlfA/4M%2BG/C8ZTZLJo%2BkxRTTD/AKaSgb5T7uxNc3tc4xP8OEaUe83zS/8AAYtRXzmz23gPDfI9MXiq2PqreOHSoUL9vb14yqzXnTw8E%2Bj6nz4P2y/%2BCg/x5/d/srf8E/bnwzpsv%2Bo8VfHDVxpiqD0LadATcEHrlWPH1ob9iP8Abz%2BOYz%2B1X/wUR1XSNNm/4%2BPCvwZ0aPR41HdBqEga4dT0IZen1r67oo/slVv96rTqeV%2BSP/gMOX8ZMX/EQJZfpkWXYbCW2n7P6xW9fbYr2rT84UYa7WPB/gh/wTM/Yg%2BANz/bHg74B6RqGss/mTeIvFCtqt/JKesnnXRcxse/l7R7V7vHHHFGsUSBVUAKqjAAHYUtFehh8LhsJDkoQUV2SS/Jfnc%2BTzfPs84gxX1nNMVUr1P5qk5Ta8lzNpLyioryCiiitzyQooooAKKKKACiuI8V/tM/s3%2BBNTk0Xxx%2B0F4I0a8i/wBbaar4rs7eVPqskgI/Kuc1P9vf9hvR4zJqP7Y/wujx/CPHunsx%2BiiYk/lXNPGYOm7SqxXrKK/ORyTx%2BApNqdaCt3nFfnJHrVFeCyf8FRv%2BCeMVwbVv2wvApYdSutIV/wC%2Bhwfzpt//AMFSf%2BCd%2BnW/2m4/bB8DsvpBrCyt/wB8oCf0rL%2B1Ms/5/wAP/A4//JGH9tZP/wBBNP8A8GQ/%2BSPfKK%2BZm/4LHf8ABM9ZzbH9rHRNy9SNOviv/fXkYP50t3/wWL/4Jo2UXnTftZaGwI6RWF7IfyWAms/7Zyj/AKCKf/gcf8zL/WDIf%2Bgul/4Mh/8AJH0xRXyddf8ABcH/AIJhwy/Z7X9pJ7yXtFZeDdYkJ%2BhFpj9aj/4fYfsKT86XrXjW%2BH8LWnw81Mg/TMIqP7dyX/oJh8pJ/lcz/wBZOHv%2Bgum/Saf5XPrWivkk/wDBYr4F6v8Au/hz%2Bzn8dfGEvaHw18LLmRifT960dL/w8r%2BOepjf4Y/4JZ/HaVG/1Z1XSraxYj3DyHbR/beVv4anN/hjOX5Qa/EP9Y8lfwVeb/DGpL/0mm1%2BJ9a14z%2By/wD8lv8A2jv%2ByzWP/qFeF68w/wCG4P8AgoVr/wAvgX/gkh4jkz0k8Q/FDStNC%2B5DqxP0rov%2BCdfiX4t%2BMNb%2BPPiP46/DO18HeKrn4zQHVPDdlrKahHZ7fCPhtYgLhAFkLRCNzgcFyvaujDZhh8XNxpqXe7hOK%2B%2BUUr%2BR1YTNMLjqjhSU9Fe7pzivvlGKb8kfSdFFFdp6IUUUUAFFFFABRRRQAUUUUAFFFFABRRRQAUUUUAFFFFABRRRQAUUUUAFfnL/wW8/0H9qD9mTxZ0/sDVNS1Dd/d26/4TTP/kSv0ar85f8Agvf/AKC/hDxZ0/sD4fa7qG7%2B7t8V%2BBkz/wCRK8nPdMmrvtFv7mn%2Bh%2BgeFOviTlMP568Yf%2BDFUp/%2B5D9GqKOvSivWPz8KKKKACiiigAooooAKKKKACiiigAooooAKKKKACiiigAooooAKKKKACiiigAooooAKKKKACiiigAooooAKKKKACiiigArxnxx/ykL%2BF/8A2Rnx5/6dvCFezV4z44/5SF/C/wD7Iz48/wDTt4QoA9mooooAKKKKACiiigArxn9g/wD5Ihrn/ZZviP8A%2BprrdezV4z%2Bwf/yRDXP%2ByzfEf/1NdboA9mooooAKKKKACiiigAooooAKKK%2BXfjl/wUp0SDx3c/s8fsV/D64%2BMfxNjylzZaJMBo%2BhEkr5moX2fLjCtnMatuJUoWjYiuXFYzDYKClWla%2BiW7b7RSu2/JL7lqe7kHDWdcTYqVDLqXPyrmnJtRp049Z1aknGnTguspyXZKUrRfvPxi%2BNvwl/Z%2B8DXPxJ%2BNPxA0zw3odoQJdQ1S4CKznOI0H3pHODhEBY44Br5hP7bv7Xv7YjnSv%2BCev7Ph0fwxOdv/C4virbSWdi6H/lpY2IHnXWRkq7DbuGHQVt/Bf/AIJzar4t8fWn7SP/AAUI8ew/FL4gwHzNJ0QwFfDfhjJB8uytGG2RhgfvpRklVbbvG8/VfyRJ2VVH0AFcChmWYazbo0%2Byt7RrzlqoekU5LrJPb6yWK4J4Q9zC045ni1vUqcywkJdqdL3J4i3/AD8rSp0pPWNGUbN/LHw0/wCCVvwzu/Ftv8Xv2yviLrXxz8bwnfFe%2BNMDSbFjglbTTEPkRJn%2BFt4zyApr6ktLS0sLWKxsbaOCCGMJDDCgVI1AwFUDgADgAV5J8Y/2/v2LPgHbXEvxT/aZ8IafPaoWl02DWI7q947C2gLzE/RK8dt/23v23/2oZl/4YT/Y9i0rw8xzF8Q/jhJNptjdL2MFjbn7TKjdVlBx6qDU08Rk%2BWN0qGs3uoXnN%2BcrOT%2Bc5L5bH5/xN4h43P8AFRWY4uVecFaFKmk1TX8tOjSUadKPko013cnqfYNBIAyTXyS3wc/4LKeNlMPib9sf4T%2BCll4eTwb8P5dRaIeqC/YAn61G/wDwSeX4lrn9rT9tn4xfEuKX/j80J/Ef9k6PcDuGs7UDAPtIOK1%2Bv42ppRwsvWbjBfnOX4Hzf9p5jV0oYKfrOUKa/wDSpy%2B5Honxv/4KafsI/s8aidD%2BJ/7Svh%2BLUlfY%2BlaO0mp3Ub/3Xis0laM/74WvPx/wWI%2BCmund8KP2Z/jz47jP3J/CXwruJkYeuZnjOPwr3D4F/sifsx/sz2S2XwJ%2BBvhzw0wTY97Yacpu5V9JLl900n/AnNejUexzqrrKtCHlGDl%2BM5K//gKEqHENbWdenT8o03O3/b05K/8A4Cj5K/4eXfG7Wvl8Ff8ABLX48zs33P7d0a200H6mSVttNk/a2/4KieMh9i8Af8EtrfQ/N4j1fxl8WdPEUPu9vAnmkf7pr63op/UMdL48XP5Rpx/9tkP%2BzMyn/Ex0/wDt2FKP/tsmfI6/Bz/gsZ8Vf3/jn9sD4Y/C6KT/AJc/h74EfWHVf7pk1JhhsdSvGelOH/BM742a7/xMPH3/AAVL%2BPdzqHaXw9rdvpVtnv8A6PHGy/rxX1tRS/sbBy/iuc3/AHqk3%2BClFfcg/wBX8BPWtKpUf96rUf4KUF9yPkr/AIdpfG5P9Hh/4KlfHkW56rJrFs0n/fwxZFH/AA618ZS/vrv/AIKdftMtN/eh%2BIUcaf8AfAt8V9a0U/7Ey3rB/wDgdT/5YH%2BruT9abf8A3Eq//LT5K/4dd%2BPn/cz/APBT39pMw91j8dRK/wD335GabJ/wR8%2BEviXFr8ZP2r/2gfiFp5/1uj%2BMfipNNaSeuVhjibH0avreij%2Bw8qe9O/rKbX3ObX4MP9XMkfxUb%2BsqjX3Oo196Z8/%2BEP8Aglb/AME6/BGmJpGjfsgeC54k6Pq%2Bmf2hKfrJdGRz%2BJrpdM/YE/YY0eUT6d%2Bxv8Lo5B0k/wCEC08sPoTCSK9borohluXU1aNGC/7cj/8AInXDKMppJKGHpq39yH/yJwsX7Lv7M8FuLSH9nbwKkQ6RL4Rsgo/DysUtj%2BzD%2BzVpdx9r0z9nnwNby/8APWDwlZo35iLNdzRW31XDf8%2B4/wDgMf8AI3%2Bp4P8A59R/8Bj/APImGvwy%2BGyQC1X4e6GIlHyxjSYdo/DbiktPhd8M7CUz2Pw60KFyeXi0iFT%2BYWt2itPZUv5V9y/yNfY0f5V9y/yI7aztLKPybO1jhQdFiQKPyFSUUVexpsFFFFABXjP7L/8AyW/9o7/ss1j/AOoV4Xr2avGf2X/%2BS3/tHf8AZZrH/wBQrwvQB7NRRRQAUUUUAFFFFABRRRQAUUUUAFFFFABRRRQAUUUUAFFFFABRRRQB5/8AtV/Gq5/Zz/Zu8bfHLT9BTVbzwx4cub7T9MlmMUd3dKhEELuASiNKUVnAJVSTg4xXD/CL4%2BfHO1k%2BLPw1%2BNNt4U17xj8M7K11C0v/AAvZy6Lp2sWt3YNcQK0d5dXJtHWeG5hdmmdNiJL8m8xp6t8XPhZ4N%2BOHws8RfBv4h2El1oXinRbnStWghmaKRreeJo32OuGjcBiVdSCrAEEECvOfBn7E3hLw/wCHvFugeNfi34z8bP8AEGGe38fah4pk04XGv2z2C2EdtKbOyt1gihgU7FtlhJeSR5DI0jEgHA/8E4f20/iz%2B1dqfiXSPifDpDjSvCnhvWrO5svAmqeGZ0k1Nb0zWpstUuJprq3i%2Byx%2BVqkRFrdmWVYgTbyGvAv%2BC0nxE%2BFHxWk8R/DXwT8TPD2ta74U%2BA/i1/Eui6VrUFxd6Q6%2BJfBM0a3MMbl4C3kuQHCk7Djoa%2By/2ef2StB%2BAHiTUvG918W/GXjjXdR8P6boKaz40uLFprTSrBrh7aziWytLaPar3U7tK6PNIXG%2BRgiBfn//AIK1aP8A25NqVls3bP2WPidcY/643/hKXP8A45Xn5vD2mVYiPeE//SZH2Hh5ifqfH%2BUV/wCXFYd/%2BV6X%2BZ9gfDzWP%2BEh8AaHr%2B/d9u0e2uN3rviVs/rWxXnv7JGsf8JD%2Byn8Mdf37vt3w90W43eu%2BxhbP616FXXh5%2B0w8J90n96T/U%2BfzfDfU82xOH/kqVI/%2BA1Kkf8A20KKKK1PPCiiigAooooAKKKKACiiigAooooAKKKKACiiigAooooAKKKKACiiigAooooAKKKKACiiigAooooAKKKKACiiigArxnxx/wApC/hf/wBkZ8ef%2BnbwhXs1eM%2BOP%2BUhfwv/AOyM%2BPP/AE7eEKAPZqKKKACiivmL/go%2BfhINZ%2BDf/DUZ0D/hT3/CwLv/AIT3/hMPJ/sPzP7E1H%2Bz/wC0vP8A3P2f7Vs2%2Bd%2B7%2B0/Zf%2BWnl0AfTtFfApj8M%2BNf%2BCXvw3s/ip8VPAdrYeDtW0jU9a8N/GbxONP0vV9EM040rTdammSV7cTWj2cyGeGUvNbxB43ywrwnWrzxpZfBv4UXP7Qn/CnLD4Xxad8UtW8K6V8VNEuNR8JXUieIbd/Dun2ttLLbeY7aVJcLpzuCy2nmPHaswWNAD9cK8Z/YP/5Ihrn/AGWb4j/%2Bprrddh4S8WeP/EH7PuieNvB/wss9O8R6h4Wsry18GeJNWksIrGeSCNzZT3EdtO8Xl7ihZYHOU%2B76cD/wTpuPEt3%2BzdfXXjLSbGw1eT4t/ENtTsdM1F7u2t5z4z1rzI4p3hhaZA2QHaKMsACUXOAAe6UUUUAFFFFABRRRQAVy3xn%2BNfws/Z6%2BHWo/Fj4y%2BNbPQNA0uPddX965Ayfuxooy0kjHhUUFmPABrkv2t/2xfg7%2Bxt8PU8a/E/UJri/1CX7N4b8L6VH52pa5dnAWC2hHLHJUFj8q7hk5IB/O3Tv2hte/as%2BPdr8Sfij8Lrz45fEbSpvO8CfAjwVcrJ4V8Cgn5LnWNRYG3lu%2BPmPzqjDa207Ui8LNc7o4GaoU2nVfTVqN%2BrSvJvtCKcpf3Y3kvrMtyXKcFliz3iWu8NgLuMFFXr4qcd6WFpu7m1oqlZxdKin7zlPlpP6LSD9q3/gqo4nvjr3wZ/Z8mOUt1b7P4m8bwHuxGfsNm47cl1P8auCm4v7Y37Bn7Dttb/sq/sgfDa48Z%2BJYW2p4B%2BEel/2jdeYMK0t5cglAw43vLI0gA5GBUP8AwxH%2B2Z%2B10P7Q/b8/abfQvDdxy3wm%2BEMr2Nk8Z/5ZXl%2B2ZrkEYDxj5cjKMK%2BkfgX%2Bzh8Cv2Z/CK%2BBvgN8LdH8MaaAPNj021CyXDAYDzSnMkz4/ikZm965cJhMwqTdWK5ZPepUSc7doU0%2BWnHsnLzakzxeIeOOJuKMNHLctoRy7LYO8KKvJt7e0qRverWa3q4icmr2p0qUbRPnyT9pv/gq38TY2g%2BFX/BO7w94KilGLbWPiV8RoZlXPRntLNRKuOpXOTVeH/gmV8S/2h5l1v8A4KL/ALWHiL4gRO28/D/wlM%2Bh%2BG4f9ho4Cs11t7SMyPyc5r7Bor0f7IpVv96qSqrtJpR/8Biop/Pm9D5F5FRr/wC%2B1Z11/LJpQ%2BcIKEX/ANvcy8jyP4R/sE/sX/AmSC7%2BFX7Mng3S7u2YGDUjosc94hHQi4mDy%2B/3q9coor0aNChh4clKCiuySS/BI9XD4XDYSHJQhGC7RSS/BIKKKK1NwooooAKKKKACiiigAooooAKKKKACiiigAooooAKKKKACiiigAooooAK8Z/Zf/wCS3/tHf9lmsf8A1CvC9ezV4z%2By/wD8lv8A2jv%2ByzWP/qFeF6APZqKKKACiiigAooooAKKKKACiiigAooooAKKKKACiiigAooooAKKKKACiiigAr5R/4KAaP/wkPxPk0DZu%2B3fso/Fi32%2Bu%2Bfwsv9a%2Brq%2Be/wBorR/%2BEi/a98JeH9m77d%2Bz38SLfb679Q8Jrj9axxMPaYecO8ZL701%2Bp6WTYn6nnOFxH8lWnL/wGpTl/wC2mx/wTb1j%2B3P2Afg3e792z4caTb5/642qRf8Asle2V80/8EeNY/tz/gmn8Jr3fnZoU9vn/rjeXEWP/HK%2Blq5cpn7TKsPLvCH/AKTE9zxAw31Pj3NqH8uKxC/8r1f8wooor0D5EKKKKACiiigAooooAKKKKACiiigAooooAKKKKACiiigAooooAKKKKACiiigAooooAKKKKACiiigAooooAKKKKACvGfHH/KQv4X/9kZ8ef%2BnbwhXs1eM%2BOP8AlIX8L/8AsjPjz/07eEKAPZqKKKACiiigAooooAK8Z/YP/wCSIa5/2Wb4j/8Aqa63Xs1eM/sH/wDJENc/7LN8R/8A1NdboA9mooooAKKKKACvm/8A4KE/8FHvhn%2Bwx4St9HhsT4o%2BI3iBBH4P8CaeS9xdyM2xJpVQFo4d/AON0jAqgJDFfK/24P8Agq7qWi/EmH9i/wD4J/6FD48%2BMGs3RsGvbZVm0/QJOd7O33JZYwCzAnyotpMpO1oz6V%2Bw9/wTf8I/s16hP8c/jP4ik%2BInxo1/M/iXx/rRMzwSMoUwWQf/AFMSr8gYAOyjHyptiTwK%2BY18wrTwuXNXjpOpvGHkv55%2BXwx3k%2BhjSxOK93EYeip07tKdS/s5OLtLlSalVUXpPllGnzfu5Vb88Y/KP7P3/BJ79qX9t74mv%2B1j/wAFQvHmoad/aiH7N4F02cw3f2Ns7bR2UkWFttYgwRkyuHfzGRySf0j%2BE3wb%2BFPwI8G2/wAPfg38PtJ8NaLaj91p%2BkWawoWxgu2Bl3OOXYlmPJJNdLRXTlmTYHK03TXNN/FOWspN73f6Ky9ToxVXF5jjnjsfVdau4qPPK3uwj8NOnGKUKVKP2aVKMIR3tKTlORRRRXrEhRRRQAUUUUAFFFFABRRRQAUUUUAFFFFABRRRQAUUUUAFFFFABRRRQAUUUUAFFFFABRRRQAV4z%2By//wAlv/aO/wCyzWP/AKhXhevZq8Z/Zf8A%2BS3/ALR3/ZZrH/1CvC9AHs1FFFABRRRQAUUUUAFFFFABRRRQAUUUUAFFFFABRRRQAUUUUAFFFFAGb4z8Y%2BFfh34P1b4geOdftdK0TQtNn1DWNUvZQkNnawxtJLNIx4VERWYnsAa5v4J/tD/Cf9oTQdR8QfDHWtQkTR7/AOxaxZa54evtIvrCcwxTqk9pfww3EO6GaKVS8YDxyK6kqwNY37anwh8VfHz9kz4h/B3wK9qNb8QeFLy10dL6UpbzXRjJiilYA7YncKjtg4VmODjB8s8BfC742/FbV/jX4q8ffBrX/h6fjFo0OhaXaahqulXVxokNrpDwC%2BuzZXk0e%2BWe5lSNYHmOy2jaQxF9qAHs/wAD/wBpL4TftGWd7qvwi1DWr/T7NIZI9XvvCOp6fY6hDNv8qexubu3ih1CBhGxE1s8sZUo27DoW5Px2qv8A8FCPhgjqCD8GPHgIPcf2t4Qrzv8A4Jw/B39pT4RXN1oXxO8OeM9A8M2PgDQNLOk%2BN/HUGutd%2BIrb7Sl/f6cYbq4FnYSRm1VIP9HXKZW0t9reZ0l/4L8SeHv%2BCm3gvxFq3xc8Q67Z6t8HvHD2Gg6rbaclpooXVvCWUtmtrSKdw%2B4Z%2B0Szn5BtK/NkA5P/AIIiM1r/AME5vCPhiRiW0PWtesGz1BXV7tsf%2BP19Z18l/wDBHT/QP2f/AB74S6f2B8bvFOn7f7u26V8f%2BRK%2BtK8nIv8AkTYddopfddfofoHitr4lZvP%2BevOf/gxQqf8AuQKKKK9Y/PwooooAKKKKACiiigAooooAKKKKACiiigAooooAKKKKACiiigAooooAKKKKACiiigAooooAKKKKACiiigAooooAK8Z8cf8AKQv4X/8AZGfHn/p28IV7NXjPjj/lIX8L/wDsjPjz/wBO3hCgD2aiiigAoorwL9tKTU/EvxH%2BCvwUvvGniDw/4Z8b%2BPL608R3nhjxJd6Pd3v2fQtSvLexW9s5YriAPLbiY%2BVIjOLTYSUZ1YA99or458Mal%2B0h8e/%2BCc/wq8R%2BG9d8T%2BJ7l9atH8Vnw14qXRtd8X%2BHbee4hWS11Dz7YRXFxGlpds6z24lTzVWRBKK%2Bavj9%2B2j%2B0dB/wTqn0Kab4ueGBY3nje9j8feGdK1rXLsWGkeILyz0XS5dZ0yGdY5WWOFp72WfbNDYuPMmF55oAP1brxn9g/8A5Ihrn/ZZviP/AOprrdek6t42uofh4fH/AIU8Ca7r8kmnJd2Ph%2B0torLUboOoZYvL1GS2WCXDcpO8RUghtrDFeUf8E6dWv9e/Zuvtb1XwxfaJc3nxb%2BIc1xo%2BpyQPc2Lt4z1omGVreWWEuhO0mOR0yDtZhgkA90ooooAK/OL/AIK3/wDBSjxhN4oH/BPn9iua81Tx54guV0zxJqehPmezaXj%2BzrZxwtwwP72XOIEzzvJ8v0b/AIK//wDBShv2Sfh5N8GfgvqiyfErxBpjTG5gAf8A4RvT2byzeuOnnOzCOBDjMjBjwAr0v%2BCPv/BMm3/Zc8IR/tG/HDTWuvih4ps/O8u%2BJlk0C2m%2BdoSzctdyZzPL1yfLXChi/wApmuMxOZ4x5VgZW/5%2BzX2Iv7K/vy28vvt6uT5Vg8xpVcwzK/1ChLkkotxlia1lJYWnJaxiouM8XWjrSpSjSg/rFeHsu6/4Je/8EzPA37BHw3Osa3DZ6p8RtetU/wCEk1yJMpapw32G1LcrCpA3N96Vxvboir9VUUV9DgsFhsvwscPh48sY7f5vu3u2ZZpmeJzbGPEV7LRRjGMVCEIRVoU6cI2jCnCNowhFWSXVuUplFFFdR54UUUUAFFFFABRRRQAUUUUAFFFFABRRRQAUUUUAFFFFABRRRQAUUUUAFFFFABRRRQAUUUUAFFFFABXjP7L/APyW/wDaO/7LNY/%2BoV4Xr2avGf2X/wDkt/7R3/ZZrH/1CvC9AHs1FFFABRRRQAUUUUAFFFFABRRRQAUUUUAFFFFABRRRQAUUUUAFFFFABRRRQAV4z44/5SF/C/8A7Iz48/8ATt4Qr2avGfHH/KQv4X/9kZ8ef%2BnbwhQB5j/wSt/4leuftK%2BEjx9j/ab8S3Ma/wB2OdbZ1H04NfWlfJf/AAT3/wCJT%2B1x%2B1f4T6eT8ULHUNv/AF9WAfP47a%2BtK8nJNMtjHs5r7qlQ/QPFD3uNa9X/AJ%2BU8NP/AMDwmEf6BRRRXrH5%2BFFFFABRRRQAUUUUAFFFFABRRRQAUUUUAFFFFABRRRQAUUUUAFFFFABRRRQAUUUUAFFFFABRRRQAUUUUAFFFFABXjPjj/lIX8L/%2ByM%2BPP/Tt4Qr2avGfHH/KQv4X/wDZGfHn/p28IUAezUUUUAFc/wDE74TfCv42eEZvh/8AGX4aeH/F2g3EiSXGieJ9Ggv7SV0bcjNDOjIxVgCCRwRkV0FFAHGeKP2cP2efHHhW88CeNPgN4M1jQ9RjtI9Q0bVPC9pcWl0loALVZIZIyjiEKojBB8sAbcYrYuPhp8OLvwB/wqe6%2BH%2BiS%2BFhpy6ePDUmlQtp/wBkVQq2/wBnK%2BX5QUBQm3aAAMVt0UAFeM/sH/8AJENc/wCyzfEf/wBTXW69mrxn9g//AJIhrn/ZZviP/wCprrdAHs1eSfttftU6H%2Bx9%2Bz9qnxZu9OOp6xJImneEdAjBaXWNXnyttaoq/M2W%2BZtvIRHIyQBXrZIUFmIAA5Jr8mP2x/jv40/bS%2BN8Pj74Tym60%2BDxJL8Pv2dbRXIj1PXJdqat4n46w2cJ2xSjIR2hkG0pIK8TPcyeXYN%2Bz/iS0j19XbyurLrJxXVmmDy3MeIM4wuR5dJRxGKnyRlL4aUEnKrXn2p0KUZ1JN6e7FbyL3/BOT9kbWv2rf2rNT/aD%2BOGrHxPYeCfEC3/AIt8QXBEkHifxoq8QQEfKbDTEYRxhflZ/mXMcgRP1Zrhv2avgD4I/Zd%2BBfhn4DfD22VNN8OaYlss3lhWupvvTXDgfxyyF5G93Pau5q8kyuOV4JRfxy96b3vJ9L7u21%2Bur3kfRcTZlluIrUcuyiLhgMHH2WHi/icVJynWqd62JqOVetJ3fNOML8tKKRRRRXsHzIUUUUAFFFFABRRRQAUUUUAFFFFABRRRQAUUUUAFFFFABRRRQAUUUUAFFFFABRRRQAUUUUAFFFFABRRRQAV4z%2By//wAlv/aO/wCyzWP/AKhXhevZq8Z/Zf8A%2BS3/ALR3/ZZrH/1CvC9AHs1FFFABRRRQAUUUUAFFFFABRRRQAUUUUAFFFFABRRRQAUUUUAFFFFABRXkX7fXxC8afCf8AYo%2BKfxI%2BHmsyaZrOi%2BBtRurLV4Ywz6aVgbdeKGBUmBd0w3Ar%2B75BGRXn3wA8ZX3wH8SftAeDNC1fx18QPCfw1t9N1bQrG51q98S601zLowu7rSree6llubqRwkE8cLOzBtQCptRo0UA%2Bnq8S8fajY2//AAUZ%2BFGmz3KrPc/Bfx%2B0EbHBcLq3g/dj3GQcemfQ149/wSs%2BOvxB%2BK3xY%2BOOlfFPxb4/1HWk1/RtVn07xb4R17SrHQmu9Kgkl06wi1W1t/Jt4ZCY0RUR5VQXDqWmLt5v/wAFG/2i/HHwj/4Kj/sw/EfUvhN4l0Dw54XfxXpes%2BItUutOaw1TTdSuPD9lJcxLbXcs6RwySQsftEUB3GPaGwcc2LxMcJh3WlsrX9G0m/le/wAjkx2LhgcLKvPaNr%2BjlFN/Lmv6JnsX7I3/ABJ/%2BCo/7WegnhL2LwRqFuv10qVJD/31ivrSvkv4Pf8AEm/4LIfGPTen9tfCbw9qGP73kyvBn9cV9aVxZPph6ke1Sqv/ACdv9T9L8SPfznCVv58FgZfdhYQ/9xhRRRXrH5%2BFFFFABRRRQAUUUUAFFFFABRRRQAUUUUAFFFFABRRRQAUUUUAFFFFABRRRQAUUUUAFFFFABRRRQAUUUUAFFFFABXjPjj/lIX8L/wDsjPjz/wBO3hCvZq8Z8cf8pC/hf/2Rnx5/6dvCFAHs1FFFABRRXkX7UXxc%2BK/g7xL8PPg/8Dbnw9Y%2BJ/iH4lurGLW/FWkT6hY6XaWum3V9PM1rBc20lw7GCKFUE8YHnmQsRHscA9dor5Z8Uftz/EJP2KPAP7Q1va%2BFvCmp%2BJ/Edrofi/xF4khnu9A8ISLPPb3t/OqTW7yWguLZoY2eaEZuYWkdQGrmL39u/wCPXiz9hq//AGyfhh45%2BGcMHg668SadrNrqXhHUrqLxlqOm6pPp1nFpRiv43tF1CSBPIDLevuvYUVZiuZAD7Nrxn9g//kiGuf8AZZviP/6mut16Xrvj/wAMeB/AUnxF%2BKOuad4W0yzsVudYvdd1KK3t9OUgbvNndhGoUnaWJAzXk3/BOnxP4a8a/s3X3jDwb4hsdX0jVPi38Q7vTNU0y7S4truCTxnrTRyxSoSsiMpDBlJBBBBoAxP%2BCp3xw8SfCL9lG/8ACHw2kLeN/iVqVv4M8FQJJtdr2/JiaQEcr5cPmuG6BgmeteH/APBKj4G%2BG/iJ8UZ/2jNGiE/gD4VaJ/wr34Ku0eEvRDkarrijpvurhpcOOSskiH7grzL/AIKf/G3Xviv%2B054l/wCEDLXkfwm0iDwR4Gton4vfHXiMGBjGejPbWImYdTHNCvTdX6K/s1/BHQP2bvgF4Q%2BBPhoIbXwvoNvYmZFx9olVB5sxHrJIXkPu5r5Cgv7X4inUetOjZLzabt/5NzS/7cj2R9TwzL%2Bx%2BFMw4hX8bHTlgcO%2BscPR5Z42pH/r7WlSw3MvsQqq%2BrO3ooor68%2BWCiiigAooooAKKKKACiiigAooooAKKKKACiiigAooooAKKKKACiiigAooooAKKKKACiiigAooooAKKKKACiiigArxn9l//kt/7R3/AGWax/8AUK8L17NXjP7L/wDyW/8AaO/7LNY/%2BoV4XoA9mooooAKKKKACiiigAooooAKKKKACiiigAooooAKKKKACiiigAooooAivbKz1Kzl07UbSK4t7iJo54Jow6SIwwysp4IIJBB4INcp8Ov2efgD8INN0/RvhL8DvB/hez0m4uJ9KtPDvhm1sorOWdQs8kSwxqI2kVQHZQCwABziuwooAoaZ4V8L6LrOpeItH8N2FpqGsyxyaxfW1mkc188caxRtM6gNKVjVUUsSQqgDgYr5L/wCClvwDH7TnxIsPgpBa%2Bde6v%2Bzv8Qn0dMf8v8GreD7i1%2Bn7%2BKP8M19h14z44/5SF/C//sjPjz/07eEKyxFGniaE6M/hkmn6NNfqYYrD0sXhp0KivGacX6NNP8z5A0v9oC98OaN%2Bz5/wV9gvJJtG1rwtbfD/AOOw5It4jcGIagR/AIdQRyx%2B8VeNR94mv0jiliniWeCRXR1DI6HIYHoQe4r4e/ZQ%2BFPgz/hY37UH/BMP4mWAk8N32tv4k8O2hIH/ABJ9ah3SLb5%2B6LacKA2MrI2eorvf%2BCXPxZ8ZL4A8Q/sZ/GzUfN8f/A/VF0DUJpMhtT0kru02/UHkrJAAuTk/uwzcvXzeTV6lCrGFV6Vb38qtP3ai/wC31FTXnzdz7nL69TjPwww%2BNnrjcqSw9fvPD88oUqj/AOvNbmpSfSnXot6K59TUUUV9SfGhRRRQAUUUUAFFFFABRRRQAUUUUAFFFFABRRRQAUUUUAFFFFABRRRQAUUUUAFFFFABRRRQAUUUUAFFFFABRRRQAV4z44/5SF/C/wD7Iz48/wDTt4Qr2avGfHH/ACkL%2BF//AGRnx5/6dvCFAHs1FFFABXn/AMfv2fNI%2BPVn4fuR4/8AEXhHXvCeuHVvDPivwo1p9u064a1ntJdq3tvcW8qSW9zPGySwuvzhgA6I6%2BgUUAeV%2BGP2XF%2BHXwUtPgZ8Ifjr418JadpllZW2j6lpi6Vc3tiIB%2B9cPfWFwk8lyxZ5nnSUl3Zk8snjh/FH/BN7wZrFn8PLTwn%2B0R8SPDH/AArnU9U1iwbS30W8Gq63qEzzXOsXsepabdRy3plnupFkRYxG13MUVdy7foyigCKygltbOK1nvZbl44lV7iYKHlIGC7BFVQT1O0AZPAA4rwb9lLxlp/w6/ZR8c/EHViPsmhfE74oajc5OB5cHjDXZG5%2Bimvfq%2BCv2g/iNJ8Mv%2BCO/xw1m2kIn1L4jfEbRbdE%2B9I1/481ezKj1O2dj9Aa5cdiFhMFVr/yxk/uTf52OPMcV9Sy%2BtiP5ISl90W1%2BNjxH/gl94Dvf2hfj98NI/Em69/4QrTNQ%2BK/xJvpBkX/irXZmXThIOzR2KQXCH13%2BtfrHXxV/wQi%2BENr4Q/Ysi%2BM93Gx1P4jatLeky8vb6daE2Fja57pHFbll9pa%2B1a8fhfDOhk8KkviqWk/SyUf/ACVX9ZM%2B94yoxyevhOG6fwZZQp4Z%2BdaK9pip%2Bs8VVrXfVU46vQKKKK%2BiPjgooooAKKKKACiiigAooooAKKKKACiiigAooooAKKKKACiiigAooooAKKKKACiiigAooooAKKKKACiiigAooooAK8Z/Zf8A%2BS3/ALR3/ZZrH/1CvC9ezV4z%2By//AMlv/aO/7LNY/wDqFeF6APZqKKKACiiigAooooAKKKKACiiigAooooAKKKKACiiigAooooAKKKKACiud%2BLnxS8G/A/4W%2BIvjH8Q797XQvC2i3OqatPFC0si28ETSPsRctI5CkKigszEAAkiuU%2BDX7TumfGDR/FYl%2BE3i/wAMeI/BU6Ra/wCCPEUFkdUjMlol1btH9jup7eVZopBsZJiN6vG2x43VQD02vGfHH/KQv4X/APZGfHn/AKdvCFbfwM/aXsPjP4u8R/DbWvhN4s8C%2BKvC1lp99qvhrxguntcfYb43K2l0kmn3d1bvHI9ndpgS71a3cMi5UtieOP8AlIX8L/8AsjPjz/07eEKAOb/ba/Yt174z6vpH7R37OXixPCHxp8FQEeGPEX/Lvqdvks2mX6j/AFttISw5BKFyRkFgfA7GR/28Ndb40fBXVD8F/wBr34XQ/wBn%2BKPDGpSERajGmCbW7i5%2B16fLkGOdQxTcuSwCE/oNXh37V37AfwS/arvrPx3qD6l4T%2BIGjKP%2BEd%2BI/hG6Npq2nsudoMi486MEn92%2BcBm2lCxNeDmOVOpKVWgr82so35btbTjL7FSPSW0lpLuTlWY57whnf9s5FJKo041aUrOnXhJWlGcZJwfNFcslJOM42UuWUYVIZ37Hf7efhr9oW/vPgx8WfDp8AfGHw4fJ8U/D3VpgspZVybmyYn/SrZh84ZCxUEZypV3%2Bgq/NP9qDwN8ZfDWj23h7/gpN%2Bz/qvxA0zw8wPhX9pr4KW4t9f0NVOUmu7WPDxFD87suYQeQsjjdXQfs8/wDBRb44/CfwqNT8S61a/tJ/CuzUbfid8OUX/hJNGt/4f7X0hisoKjlpMLhRuZnZsVyYTPnh5%2Bwxt7r7TVpJf34L8Z0%2Bem93ybH3eHwvCfH1ZvhuawuOessvryVOd%2Bv1SrUkoV4Xvy0pTVaKajGdZJN/oZRXAfs%2B/tSfs/8A7VHhFfGvwC%2BKeleI7LaDcR2c%2B24tCeizwOBLC3s6qfTiu/r6WlVpV6aqU5KUXs000/mj5HH4DH5XjJ4TG0pUqsHaUJxcZRfZxkk1816XWoUUUVocgUUUUAFFFFABRRRQAUUUUAFFFFABRRRQAUUUUAFFFFABRRRQAUUUUAFFFFABRRRQAUUUUAFFFFABXjPjj/lIX8L/APsjPjz/ANO3hCvZq8Z8cf8AKQv4X/8AZGfHn/p28IUAezUUUUAFFFeY/tH/AB58W/CO98G%2BB/hd8OrDxV4w8eeIJdM0DStY8QvpVjGsFjc3txc3N1HbXLxRpFbFRsgkZpZYlwqlnQA9OorwDUf25X1D9m34dfGnwD8LVu9e%2BJfiGz8PaP4Z1/XxYW2n6tKZlngvL2OGfy0he1uI98cMpkkVERSZFrip/wDgpp4l8SeDLK%2B%2BDXwA0/xT4ksdI8Xal430MeOhb2%2BmReG9TGl6hFaXYs5Pt0811uFqrx26SxozyyW3CkA%2BtK/Jf/gpp8QrzQf%2BCc2nfD3R7lUvNc/ac%2BI1/JG54ktdO8U%2BI7mRcf8AXTyK/VXwT4w0H4heDNI8feFroz6ZrmmW%2BoadOUKmSCaNZI2wemVYHFfiX/wUP1K5%2BKfinw38A9KvXS70zxp8Sbq0EZ48/V/iZqOnbSO5MUMmAecEmvm%2BLqzo5BWUd5Wiv%2B3mv0R6GSZbTzzibK8rqfDiMXhacr6rkdenKpddvZUqt/7tz9bP2CPAf/Csv2J/hR4JeHy5rLwBpRu0xjE72ySS/wDkR3r1uoNM02z0fTbfSNOhEdvawJDBGOioqhVH4ACp697D0Vh8PCktopL7kl%2Bg84zCpm%2BcYnHz%2BKtUqVH6znOf/t1vkFFFFbHnBRRRQAUUUUAFFFFABRRRQAUUUUAFFFFABRRRQAUUUUAFFFFABRRRQAUUUUAFFFFABRRRQAUUUUAFFFFABRRRQAV4z%2By//wAlv/aO/wCyzWP/AKhXhevZq8Z/Zf8A%2BS3/ALR3/ZZrH/1CvC9AHs1FFFABRRRQAUUUUAFFFFABRRRQAUUUUAFFFFABRRRQAUUUUAFFFFAHn/7VfwVuv2jP2bvG3wO07Xo9KvPE/hy6sdO1OaEyx2l0yEwTOgILosoRmQEFlBGRnNcJ8Evhf%2B1J4T8ceP8A45/EPwl4AXxV47W2jGiaP4xvprDTIdPsDHZR/aZNNjkuDNdS3Lyv5MfkxyIqrOyEv73RQB4D%2Bwj8Gv2jvhfpninxL%2B1h4d8GyePfFl/BqHiLxb4T8ZXmqDVpwjoLdIbnTbP%2Bz7K1jEcVtbo0/wArSPI5laSWatf/AAx8N%2BDv%2BCm3gvxnpOpeIZrzxD8HvHEl/Dqvi7Ub60iKat4SwLa1uZ5ILIHccrbpGGwNwO1cfQ9eM%2BOP%2BUhfwv8A%2ByM%2BPP8A07eEKAPZqKKKACvnn47/APBL39kL46eJW%2BIyeCrzwV4z3mSHxv8ADvUX0fUo5T1lLQ/u5H/2pEZuOtfQ1Fc%2BJwmGxlPkrwUl5q/zXVPzTT8zlxeBwePpezxNNTXmr2fddU/NNPzPy7%2BOv/BGj9sXw14tPxS%2BBPxs0TxZrdtIZLXxFI8nhfxUg6lft1lmC8lYgbprpCxGRkcVieHf%2BCmv/BWD9hsron7aP7KOt%2BL/AA9ZDE%2Bu3WmeRcRKDjaNRsVls7javO50VnwSWGa/V%2Bivn58MQoVXVwGInRk%2Bz5ov1jLf72/M%2Bjw/E/FGGwMMDUxX1rDwVo0sXBYqMF2pVJyhiqKXRU8VyrpDY%2BQv2df%2BC4f/AAT8%2BP0dvYaj8Un8C6vNgNpnjiEWaBu%2BLoFrfGem6RSR/CO31nomu6J4m0mDXvDes2uoWN1GHtr2xuFlimU9GV1JDD3Bryz4xfsC/sXfH1pp/ix%2BzN4Q1S6uM%2BdqSaQltePn1uYNk3/j9eB3v/BD74L%2BAr288QfshftH/Ff4O6lcgbI/DHiySWx4OcSxPiWYcdGmxXVTnxHhVarCnWXeLdOX3S5o/dJHh4vG1qkuaGDjH/BWbj8o1oc69PaT7Xe59s0V8L6z8Jf%2BC6vwHLTfC/8AaZ%2BG/wAZNMtYwttY%2BMvDq6ZfSgDofICKx9We5yfWuK8Qf8Fc/wDgot%2BzuGX9qz/glnq4t4eLvWvC2oz/AGOPHUiRYrqI/QzD60VOIcPhv96pVKXm4Nx/8Chzr8isJRzbGu1HBVZvtCMar/8AAaVSU/upv9D9HaK/Pf4ef8HHf7H/AIquINM8VfCP4i6ReTD7trptrfxr68xXAk/8h16/4b/4LU/8E3deuV07Uf2gG0K9IBaz8ReGdRs2TPqzwbP/AB6tKHEWRYhXhiYfN2/Oxy47HYfKq/scwvh5/wAtaFSjL7q1Ok38rrzPqmivJvCP7ef7EvjsIvhT9rX4c3cj/dtx4xs0mP8A2zeQOPyr0nQPFnhXxXb/AGvwv4l0/UosZ82wvUmXH1QkV6lLE4ev/DnGXo0/ybLo4vCYlXo1Iy9JRf5NmhRRRWx0BRRRQAUUUUAFFFFABRRRQAUUUUAFFFFABRRRQAUUUUAFFFFABRRRQAV4z44/5SF/C/8A7Iz48/8ATt4Qr2avGfHH/KQv4X/9kZ8ef%2BnbwhQB7NRRRQAV5h%2B0h8BvF3xcvfBvjn4W/EWw8K%2BMPAfiCbU9A1XWPDz6rYyrPY3NlcW1zax3Nq8sbxXJcbJ42WWGJssoZH9PooA8F0/9jjxH4d/ZPj/ZW0nxb4F1%2Bwt7O1jWX4j/AA0bW7O/m80z3099ZLfwJcNPcM8yKjQrCzDiQKK4Nf8AgmBq3gn4d6L4X%2BAXx4sPCGsJ4Y8T6D4r1ZvAqXFvqFrr18moXslnaRXUCafLDcq32T5poYInMbxTgKR9bUUAcxH8GvhhJ8JLX4E6z4I03V/CVrosGk/2DrdlHeW01nDGsaRSxyhlkUKi8MDnFfil%2Bz18PtH8Vf8ABSgfCzQPC9jpmh%2BH/wBrLUtM8LaXpdqkFtb6do%2Bt67qdxbRxIAscSNcQYRQFAA4GBX7qV%2BTf/BPL4ZTT/wDBVm/%2B2WjeZp/xL%2BM3jlGkXlYrrxTc6Eh57Zs2x/vH1r5viShLEU8NT6OrC/8AXyZ9dwFhpS4tp4/7ODo4zEPycMHXp03/AODMTH5n6yUUUV9IfIhRRRQAUUUUAFFFFABRRRQAUUUUAFFFFABRRRQAUUUUAFFFFABRRRQAUUUUAFFFFABRRRQAUUUUAFFFFABRRRQAUUUUAFeM/sv/APJb/wBo7/ss1j/6hXhevZq8Z/Zf/wCS3/tHf9lmsf8A1CvC9AHs1FFFABRRRQAUUUUAFFFFABRRRQAUUUUAFFFFABRRRQAUUUUAFFFFABRRRQAV4z44/wCUhfwv/wCyM%2BPP/Tt4Qr2avGfHH/KQv4X/APZGfHn/AKdvCFAHs1FFFABRRRQAUUUUAFFFFABRRRQB5z8Wf2Qv2Wfjr5knxf8A2evB/iCeXO691HQIHuRnqRPtEin3DCvBPFH/AARH/Y5nhlj%2BEWu/EH4b%2BaxdovBfje5WBmPPzRXXnKVPdQAMccV9g0V5%2BIyrLMXLmrUYt97JP71Z/ifV5Xx1xnk2H%2BrYPMKsaX/Ptzc6b8nSqKrSa8nTt5H52eLf%2BCJXxQ0zfL4F%2BOXw18Vw/wAGn/En4H6VJM/%2B/qFoq3Lf5Neba/8A8Er/AIz%2BEp/tvi3/AIJd/B7xxLEcpd/Cr4t6z4cmI9Qt7PsDY7bcZ6V%2BrlFeVV4TyiesE4/dJfdOMvzLrcUZdmT/AOFfJMuxXdzwdKlN/wDcTCvDSv58rfmfkp/wq3wj8NPk8afsqfty/DLZ9%2B7%2BG/jaTWbS29zMjHCj1wauaJ8b/wBlbT75dGsv%2BC0n7SXgrUf4dP8AiZZXNxIn%2B80tmI%2BPdq/V%2Bqmt%2BH9B8S2LaX4j0Sz1C2f79ve2ySxt9VYEGsf9WpUv4VRfOMl%2BNOrD/wBJOb2HhDiv4%2BQVKD74bHV4r5QrRqR%2BXN8z8/8AwTqfxP8AFmxfg7/wcQ%2BFL12%2B5Y6v4P8AD13O3oCsk6yD67a9O0v4O/8ABWx7NdQ8J/8ABQv4aeJbc/6ue%2B%2BGkUSP/wACtpCPyr13xr/wT7/Yc%2BIe9/Fv7JPw9uJZPv3MPhS1gmb6yxIr/rXmeqf8EVP%2BCd8t42q%2BE/hDqnhe%2Bb/l98MeMtTtXHphftBQfgtH9lZnT2V/8NetH8Jc6D/VbwfxP8LHZlhn/eVOsl86eIpu3/bt/Irf8Ix/wW90kf6B8UP2b9Wx0/tTRdZgz9fJNH9v/wDBcLTf%2BP3wB%2BzRqeOv9naprkOfp5oo/wCHUMfh35/hX%2B3/APtF%2BG9v%2BrtF%2BI32u0X/ALYywnP/AH1S/wDDE3/BRDwxz8O/%2BCs2umNPu23in4YaZqW8ehlZlYfUDNHsMxp/FCv/ANu16cv/AEqMQ/4h3wZX/wB04qlHyrUsXT%2B9qliF%2Bgn/AAtr/gsxp/8Ax9/sj/B/UMf8%2BHj24iz/AN/Vo/4aM/4K52X/AB9f8E4fB99j/ny%2BL9rFn/v5HS/8K2/4LQ%2BFv%2BQD%2B0r8EPFW37v/AAk3g69sd/1%2BxscfhR/wsD/gtR4aH/E7/Z9%2BA/ibb1/4RzxXqNlv%2Bn2sHH40c9ePxSxUf%2B3YS/JP8g/4hTiKn%2B6cSYaf/c1CD%2B6vg6f4yE/4a4/4KpWf/H3/AMEjILkDq9p8edHX9GiyaX/htr/govbf8hP/AIJDa6mOv2X4u6RN/JBR/wANef8ABUDw/wDL4q/4JQLfxr9678P/ABm0uTP0iePf%2BtH/AA8g/aG0T/kd/wDglf8AGu3x9/8AsGC01PH08t1zR9ahH4sXWj/ipf8A3EP%2BIO8cy/3fHwq/4MXls/w9pB/fYT/hvj9tu3/5CH/BJfx8vr9m8aabN/LFH/DxD9qmH/j9/wCCUnxZX18jUbGT%2BTCl/wCHuPgzTuPGf7EH7Sfh/H331b4TSBB%2BKTNke9H/AA%2Bp/YisP%2BRvufHfh/H3v7Z%2BHWpJt%2BuyJ6Pr2GW%2BZNf4oQX/AKVTiH/EGPFp/wAKjiJ/4IYar/6aqVBP%2BHkX7Qkf/Hz/AMErvjaP%2BuVtaP8Ayko/4eV/HFf9Z/wS0%2BO4/wB3SbY/%2B1av6V/wWs/4Ji6w2y3/AGpLSFuhW98N6pBg%2Bh8y1UV0ulf8FVf%2BCdes4%2Bx/te%2BDUz0%2B16gYP/RqritIYujP4czi/lR/zRx4jwm8WsJ/GwmMj64J/pSZxf8Aw8q%2BObfc/wCCWfx2/wCBaXbD/wBqUf8ADyD9oqT/AI9v%2BCVvxqP/AF1itE/m9er6Z/wUB/YU1jAsP2yfhczN0STx5p6Mf%2BAtKDXQab%2B1Z%2By7rOP7I/aS8A3Wen2bxjZPn/vmU10x9pP4cwT9FR/%2BSZ49bgfjzDfxliY%2BuEa/Oijwj/h4f%2B1ZLza/8Eo/iufTztTsY/5tR/w8A/bKk/1P/BJv4jkf9NPFGnr/ADr6UsPi38KdVwdL%2BJ3h65z0%2Bz61A%2Bfyetmy1bStSG7TtTt7gesMyv8AyNbRwmMntjJP0jS/yZ5VXI8%2BofxcVVj60qcfzgj5T/4b7/bT6/8ADpn4hY/7G7TqT/h4F%2B2Mn%2Bu/4JO/EkeuzxLp7f1r61oq/qGP/wCguX/gFP8A%2BRMP7MzP/oOn/wCAUv8A5E%2BSv%2BHhv7V6f67/AIJR/FYf7mq2Lf8As1H/AA8X/acX/Wf8EqPjAP8AduLI/wDs9fWtFH1HMP8AoLl/4BT/AMg/s3NP%2Bg6X/gul/kfJX/Dxr9pXp/w6q%2BMmf9%2Bz/wDi6qfBP9oz4m/H/wD4KFeC/wDhYv7KnjH4Y/2T8GfGX2P/AISx4T/aXm6t4V3%2BV5RP%2Br8td2f%2Beq4719gV4z44/wCUhfwv/wCyM%2BPP/Tt4QrWhhcZTqqVTEOS7OMFf5pXN8Ngswo1lOripTivsuFNJ/OKv56Hs1FFFegeoFFFcf8afjz8Mf2fvDtl4l%2BJ2q38Meqaomm6TZaNoF7qt9qF20ckogtrOxhmuLhxFDNKVjjYrHDI7YVGYAHYUV594h/al%2BBHhr4MaN%2B0DdeOTeeFfEiWJ8OXuiaXdajPqxvNv2aO1tbWKS4uJJAwIjjjZ8BiQArY5XxB/wUO/ZJ8NeB9H%2BIeofEPVJtO1u11W5to9N8E6xeXdtBpdwLbUpry0t7R7iwjtJyIbh7mOJYJDskKtxQB7XX5zf8EkYJvG/wDwUG/ab8aXEbFfBXi3XvDNrIw4xd%2BMNd1B1X6MBn3Ir9E9N1LT9Z0631fSL6G6tLuBJrW5t5A8csbAMrqw4ZSCCCOCDXxV/wAEYfBb6dqP7UXxEuods2uftZeObWNiPvwWmrXCof8AvuWUfhXm46m6uJwy6Kbk/wDt2Erfiz7ThbGU8BkmdTfxTw0aUf8AuJiaCl98KbT8j7booor0j4sKKKKACiiigAooooAKKKKACiiigAooooAKKKKACiiigAooooAKKKKACiiigAooooAKKKKACiiigAooooAKKKKACiiigArxn9l//kt/7R3/AGWax/8AUK8L17NXjP7L/wDyW/8AaO/7LNY/%2BoV4XoA9mooooAKKKKACiiigAooooAKKKKACiiigAooooAKKKKACiiigAooooA8d/wCCg58cj9hz4sH4b/2n/bH/AAgWp/Z/7E3/AG7Z9nfzfs3l/P5/leZ5ez59%2B3b82K%2BevgD4l%2BGemeEP2jvD3/BPLX/C1v4W1PRv%2BLM2Pgq6tk0278Sx%2BH917/ZSRHy5ArmwabyQVW4M5f8Ae%2BbX3PRQB8Vf8Euz8BT8WvFP/DHh0s/Dn/hUngv%2B3P7C2/Zv%2BEs8zVvtv2jb/wAxX7N9h%2B2%2BZ%2B/z9m875q9Ov9S%2BK93/AMFNvBdn428F%2BHtP0K3%2BD3jgeGtR0rxPPeXd%2Bh1bwl5jXNtJZQpaEYTASa4DbjkrtG76Hr5w/aP1f416P%2B3h8J5/gd8P/C3iLUm%2BEfjtbu08V%2BMLnRYI4P7U8JEuktvp96zvu2jYY1GCTvyApAPo%2BivGf%2BE4/wCChf8A0a/8Gf8Aw/Grf/MvR/wnH/BQv/o1/wCDP/h%2BNW/%2BZegD2aivGf8AhOP%2BChf/AEa/8Gf/AA/Grf8AzL0f8Jx/wUL/AOjX/gz/AOH41b/5l6APZqK%2BcdJ/aO/bt1j4z6/8Drf9lD4SLqnh3wvpGu3ly/x11TyJINRudSt4UQjwxuLq2lzlgVAAePBYlgvUf8Jx/wAFC/8Ao1/4M/8Ah%2BNW/wDmXoA9morxn/hOP%2BChf/Rr/wAGf/D8at/8y9H/AAnH/BQv/o1/4M/%2BH41b/wCZegD2aivGf%2BE4/wCChf8A0a/8Gf8Aw/Grf/MvXL%2BAf2jv27fiJ4r8b%2BENH/ZQ%2BEkNx4D8URaFqslz8ddUCTzyaVp%2Bph4tvhgkp5OowqSwU70cYwAzAH0dRXjP/Ccf8FC/%2BjX/AIM/%2BH41b/5l6P8AhOP%2BChf/AEa/8Gf/AA/Grf8AzL0AezUV4z/wnH/BQv8A6Nf%2BDP8A4fjVv/mXo/4Tj/goX/0a/wDBn/w/Grf/ADL0AezUV84/CL9o79u34y%2BFLvxf4c/ZQ%2BEltb2fijW9CkjvfjrqiuZ9L1W60ydxt8MMNjTWkjIc5KMpIU5UdR/wnH/BQv8A6Nf%2BDP8A4fjVv/mXoA9morxn/hOP%2BChf/Rr/AMGf/D8at/8AMvR/wnH/AAUL/wCjX/gz/wCH41b/AOZegD2aivGf%2BE4/4KF/9Gv/AAZ/8Pxq3/zL1y/wR/aO/bt%2BPHwY8IfHHwr%2Byh8JLXS/GfhfT9d0221D466os8MF3bR3EaSBPDDKHCyAMFZhkHBI5oA%2BjqK8Z/4Tj/goX/0a/wDBn/w/Grf/ADL0f8Jx/wAFC/8Ao1/4M/8Ah%2BNW/wDmXoA9morxn/hOP%2BChf/Rr/wAGf/D8at/8y9cv8bv2jv27fgP8GPF/xx8VfsofCS60vwZ4X1DXdSttP%2BOuqNPNBaW0lxIkYfwwqlysZChmUZIyQOaAPo6ivGf%2BE4/4KF/9Gv8AwZ/8Pxq3/wAy9H/Ccf8ABQv/AKNf%2BDP/AIfjVv8A5l6APWdV8NeHNdXbrmgWV4D1F3apJ/6EDXM6r%2Bzl%2Bz1ruf7c%2BA/gy83dftfhe0kz/wB9RmuM/wCE4/4KF/8ARr/wZ/8AD8at/wDMvR/wnH/BQv8A6Nf%2BDP8A4fjVv/mXrOdKlU%2BKKfqk/wA0zrw%2BYZhhP4FacP8ADOcf/SZxNDU/2Ef2ItZJbVP2PPhdOx6u/gHTt3/fXk5rn9R/4Ji/8E99Uybn9jzwEuev2bQIof8A0WFrH%2BLv7R37dvwa8KWni/xH%2Byh8JLm3vPFGiaFHHZfHXVGcT6pqtrpkDnd4YUbFmu42c5yEViAxwp6j/hOP%2BChf/Rr/AMGf/D8at/8AMvXPLLsun8VGD/7cj/8AIns0eM%2BMcN/CzPEx9MRX/wDlxyeof8Egf%2BCbGpZ%2B0/smeHlz/wA%2B9xdRf%2BgTCsW9/wCCI3/BL6/bdL%2By5Ch7G38WavHj/vi7Fejf8Jx/wUL/AOjX/gz/AOH41b/5l6P%2BE4/4KF/9Gv8AwZ/8Pxq3/wAy9YSyXJpb4an/AOAR/wAj1KXid4k0P4edYtemJrf/ACxnmP8Aw5G/4J32/wDyB/hh4g0/HT7F4%2B1Zcf8AfVyaP%2BHL/wCx5B/yCtd%2BJVj6fZPiRqAx%2BbmvTv8AhOP%2BChf/AEa/8Gf/AA/Grf8AzL1y/j79o79u34d%2BK/BHhDWP2UPhJNcePPFEuhaVJbfHXVCkE8elahqZeXd4YBCeTp0ygqGO90GMEssf2FkvTDwXorfk0dH/ABFfxMfxZxiH/iqOX/pUZHNf8OdvgDD/AMgz4%2BfG%2By9PsvxSuhj8waP%2BHRXw%2Bi/5B37aH7SFn6fZvi1KMfnCa9N/4Tj/AIKF/wDRr/wZ/wDD8at/8y9H/Ccf8FC/%2BjX/AIM/%2BH41b/5l6P7Cyj/nyvvkvymg/wCIqeIj3zKb9Y0Zf%2BlYeR5j/wAOm7SL/jw/4KM/tV23osXxgOP1tjVP4K/sq3n7Mn/BQvwWt1%2B0x8U/iKut/BnxlsHxM8VDUzp/k6t4Vz9nIjTy/M80b%2Bu7yo%2Bm3n1r/hOP%2BChf/Rr/AMGf/D8at/8AMvVDwP4H/as8Y/tWeHPjd8bvhx8PfDOjeGfh74h0OGHwr8Q77Wrq7utSvtEuEZkuNIsUijRNLlBYO7FpUAXGSNqGVZfhqqqUoWa/vT/Jza/A8/NOPuL87wM8HjsVz052uvZ4dXs0170MNTmtUtprs7q6futFFFegfHhXiX7W3g34nHx38KPjr8Mfhlf%2BNpPh94tvrrVvCmkX9lbXt1aXmkXtkZrZr6e3tzLHLPCSsk0YMTTbWLBUf22igD4p139mD47j9hj4f/AvWvgpq%2BrX/hjxnpfiDxhpPhfxVaaffzwy3VxfXFtoeo/bLdra4tZ5oovPaS0Z4opVikHmKw8q8bfsGftFaj8FvDHhTX/2c/GOs2Vv4Z%2BIun6No3hP4lWWm69osutayt3pqa5qBv4U1aA2wH21TNerPcr5lxFqD4nr9K6KAOR0fwX46ufgjpvgPWfH0uheI08PWtpf%2BIfCVlaKba7SJFlltYrq3lgVd4barwsoUgbeOPKP%2BCZPgCH4efs6a/pbeIr/AFi8ufjZ8RbjU9Z1RIFudQuP%2BEw1eNp5RbxRRB3EakiONEBztVRhR9C18lfsleLP2ztP%2BHviiz%2BGPwD%2BGGr6Enxp%2BIv9n6jr3xd1HTbuZf8AhM9ZLGS2i0C5SIhtwAEz5AByCdoTim030LjUqQhKCekrXXezuvuep9a0V4z/AMJx/wAFC/8Ao1/4M/8Ah%2BNW/wDmXo/4Tj/goX/0a/8ABn/w/Grf/MvTIPZqK8Z/4Tj/AIKF/wDRr/wZ/wDD8at/8y9H/Ccf8FC/%2BjX/AIM/%2BH41b/5l6APZqK%2Bcfgj%2B0d%2B3b8ePgx4Q%2BOPhX9lD4SWul%2BM/C%2Bn67pttqHx11RZ4YLu2juI0kCeGGUOFkAYKzDIOCRzXUf8ACcf8FC/%2BjX/gz/4fjVv/AJl6APZqK8Z/4Tj/AIKF/wDRr/wZ/wDD8at/8y9H/Ccf8FC/%2BjX/AIM/%2BH41b/5l6APZqK%2Bcfjd%2B0d%2B3b8B/gx4v%2BOPir9lD4SXWl%2BDPC%2Boa7qVtp/x11Rp5oLS2kuJEjD%2BGFUuVjIUMyjJGSBzXUf8ACcf8FC/%2BjX/gz/4fjVv/AJl6APZqK8Z/4Tj/AIKF/wDRr/wZ/wDD8at/8y9H/Ccf8FC/%2BjX/AIM/%2BH41b/5l6APZqK8Z/wCE4/4KF/8ARr/wZ/8AD8at/wDMvXL/ABd/aO/bt%2BDXhS08X%2BI/2UPhJc2954o0TQo47L466ozifVNVtdMgc7vDCjYs13GznOQisQGOFIB9HUV4z/wnH/BQv/o1/wCDP/h%2BNW/%2BZej/AITj/goX/wBGv/Bn/wAPxq3/AMy9AHs1FeM/8Jx/wUL/AOjX/gz/AOH41b/5l6P%2BE4/4KF/9Gv8AwZ/8Pxq3/wAy9AHs1FfOPj79o79u34d%2BK/BHhDWP2UPhJNcePPFEuhaVJbfHXVCkE8elahqZeXd4YBCeTp0ygqGO90GMEsvUf8Jx/wAFC/8Ao1/4M/8Ah%2BNW/wDmXoA9morxn/hOP%2BChf/Rr/wAGf/D8at/8y9H/AAnH/BQv/o1/4M/%2BH41b/wCZegD2aivGf%2BE4/wCChf8A0a/8Gf8Aw/Grf/MvXL6t%2B0d%2B3bo/xn0D4HXH7KHwkbVPEXhfV9ds7lPjrqnkRwadc6bbzI5PhjcHZtUgKgKQQkmSpChgD6Oorxn/AITj/goX/wBGv/Bn/wAPxq3/AMy9H/Ccf8FC/wDo1/4M/wDh%2BNW/%2BZegD2aivGf%2BE4/4KF/9Gv8AwZ/8Pxq3/wAy9H/Ccf8ABQv/AKNf%2BDP/AIfjVv8A5l6APZqK%2BcdJ/aO/bt1j4z6/8Drf9lD4SLqnh3wvpGu3ly/x11TyJINRudSt4UQjwxuLq2lzlgVAAePBYlgvUf8ACcf8FC/%2BjX/gz/4fjVv/AJl6APZqK8Z/4Tj/AIKF/wDRr/wZ/wDD8at/8y9H/Ccf8FC/%2BjX/AIM/%2BH41b/5l6APZqK8Z/wCE4/4KF/8ARr/wZ/8AD8at/wDMvXL%2BAf2jv27fiJ4r8b%2BENH/ZQ%2BEkNx4D8URaFqslz8ddUCTzyaVp%2Bph4tvhgkp5OowqSwU70cYwAzAH0dRXjP/Ccf8FC/wDo1/4M/wDh%2BNW/%2BZej/hOP%2BChf/Rr/AMGf/D8at/8AMvQB7NXjP7L/APyW/wDaO/7LNY/%2BoV4Xo/4Tj/goX/0a/wDBn/w/Grf/ADL1b/ZW%2BHPxp8H6x8UPHfx00DwvpOqePviFFrlnpXhPxLc6tb2trFoOj6YqvcXFlZs0jSadK5URbQsiDcxzgA9booooAKKKKACiiigAooooAKKKKACiiigAooooAKKKKACiiigAooooAKKKKACvlfVf2tPi5F%2B0jNrieHfB7/DzSPjBb/C54pNIuDr5uLvT7W4bUI7z7R5SQfbpbe3a0%2BzkskJnM4IWGvqivGbz9iH4cXnx%2Bb46v458VLbS%2BK4fFVz4FS6tf7En1%2BLTl06PVGU2/wBp81bdIx5QuBbmSJJjCZR5lAHs1FFFABRRRQB8x%2BHP2lfiZD%2B3/wCKPg/8RtY8PeE/Da%2BILTRPBkWo/CLWUuvGMA0CDUcQeI2u105pY7u51AC0ELyeXaTAKCzSL9OV5X4s/Zag8f8Axk0j4p%2BPfjf411fSvD2ux61oHgC4OmRaNY6hHbvBHOGhskvZdnmSSKk11JGJH3bPkQL6pQAUUUUAeL/8FBfi78cP2fv2R/Gnx6%2BAV74Uj1jwToV3rl1B4w0W5vra7tLW2lme3RLa6tmSV2RFEhcqgLEo/Arz/wAeftZ/FzwX8ePFup%2BFPDvg%2BL4eeD/jH4R%2BH3jKzm0ic63quq67BoqR6hDdpcLDHHB/bmkxmKS3leRIZ8Sx7UFew/tY/s42X7WnwI179n3Wvir4p8I6T4nspbHXL/wgunfa7mylieKa23X9pdRojq/LIiyAqNrrzni4P2AfB0/xFs/iL4q%2BOPj7XWOs6TrnibRtQl0qKx8T65piIljq19HbWETLcRCC0IW2aCBjY2xeJjHkgHvdFFFABXi/7ZPxd%2BOHwStfAPjH4WXvhT%2BxtQ%2BJnhzw94vsfEGi3NzdXNrqus2Omg2csN1CltJGtzLJvkSdSURdnJNe0V5V%2B1d%2By2/7VXhvQvC8/wAffG/ga30LxJYa6jeC4dHZ7u9sbyC8s2lOpafeDbFcW8bhYwgblZN6naADzj9nn9pX4ma3%2B1V4t%2BCPxQ1fw94T06HxTrdv4J8JSfCLWdMudetoXSU39vrVxd/YNQdjJNLLFbQF%2BS7FcMT9OV5LpP7KIf4yaL8ZfiP%2B0B478azeF7u8u/CeheIRpMNho91c28lrJcRLYafbSyv9nmnhXz5JVRZ32gEgj1qgAooooA8H/a1%2BM37QXwG8SeF/F3gzxB4HvfD2teLtC8O23gW%2B8OXkmua5c3t8sNy1pex3qxQmC1aS62NaTDy7SZneNAXj4/8AYl/az%2BLnxU134caZ4/8ADvg%2By8L/ABf%2BDlx8Qfhlp/hbSJ7SbQNKtp9LQafetJcSx3Mn2fWtOYSwx26K0c6eUQFavQviT%2BxyvxE/ad0T9qa3/aO%2BIGhar4f0MaVpmgaZDolxpcEDzebctGl9plxNDLcgRxzSxSo7RwxorIByfs8/sQ/Dj9nHxfF4q8N%2BOfFWtR6T4el8PeCtI8QXVq9r4S0aS4S4k06wEFvFJ5JeG2Gbh55QlpAgkCoBQB7NRRRQAV8v/tc/Hj9pj4LfETT/AArpUPgDxro/jmHWrbRfhzF4PvpNYS1tNDuruS/uLgXzxXVsLqK3tpIRaxA/b4UExkZEk%2BoK8Om/YmuI/wBo/wAV/tNaJ%2B1X8S9O1fxbpsOnXOlwweH57TT7OGBo4baza50mW5t4lld7rYs2153LuHB20AM/YQ/aD8b/AB7%2BHt5dfFfx9o194u04Wba/4bsvhdq/hG80B57ZZRBc2Wr3U9w4Lb/LuAEjkVDtDbSa90rzf4Hfs3ad8GfE/iT4h6x8UvFPjjxV4risbfWPE/i5rBbl7SzE32W1SLT7W1to4o2ublxthDM1xIWZsjHpFABRRRQB8UftMftw/H74HfH2/wDgPqOm%2BEPFo1h7JPCX9o/DPV9FttH1G98Q6HpmkM95d3ktv4gSOXWIZbhtPETW7Wnz%2BS0qKv0B%2Byr8X/iR8Rh4/wDh98Yzok/ir4aePG8NazqvhrTprOw1PzNL07Vre4ht5p55LfNrqlujxtNLiSOTDEEY5X4l/wDBPPwb8bdfn8QfG34%2BfEXxVJbR3H/CHQ39zpVsnhG4kure6S7sDZ6fCz3EMtpbGKS7a5KeV33vv9H%2BAfwF0P4B%2BHtW02y8X654k1bxFr82teJ/FHiV7Y3%2Br30kcUPnTC1gggXZBBbwIkUUaLHBGoXgkgHdUUUUAFfE37UX7Y/7WHwe%2BM3ij4V%2BD/DXhzxvqul%2BGL/xD4SjT4J6/DJpDpd6fbwrC5vXXxNJ9k1OdZhpflPC0RWQR%2BcIx9s14jrX7F%2Bo%2BIvH7fFDXP2tPihc63YW97D4Nu3TQAvhVbuaF5zaRjSgk7NHCkAa9F0ViLgEM7OQDpf2VPi3N8ZfhSPE2o/E7RvFOo2uq3Njq11o/gi/8NmzuIm%2Ba1n0zUbie6tJ0UruSZgxDK21VYV6TXCfAP4B6B8AdC1mx0/xbrniPVfE3iCXXPE/ibxJLbte6rfyQwwebILaGGCMLBb28KpFFGipCgC5yT3dABRRRQAUUUUAFFFFABRRRQBR8UeIbDwj4a1HxXqof7LpljNd3PlLlvLjQu2B3OFNfOf7E37Sfxr8f%2BKdH8GfGzw94Ms18dfC2y%2BI3hmHwZpVxaDTI7y4Ju9PuzNcSi7mje5tn%2B2IIBO0sxMEe0F/pa7tLW/tZbG9t0mhmjaOaKVQyupGCpB4II4xXkP7M37FfgL9mDVX1fQPiD4t8Sy23hix8M%2BHR4svbWYaBoVm8j2%2Bm2pt7eEtGpk%2BaWczXEgji8yZ/LXAB7FRRRQAVwv7UHjv4i/C39mn4ifE74P%2BFF17xb4c8C6vqnhbQ2sZroajqNvZyy21sYYGWWbzJURPLjYO27CkEg13VZ3i3RL/AMS%2BGNQ8P6X4r1HQrm9tJIbfWtIWBrqxdlIE0QuIpYi6nkCSN0yPmVhkEA8u/Yp%2BLU/xQ%2BGd9Zat8QvD%2Bs6n4d1VdOvNM0T4Yan4OfQ0FtBJFZ3Glapcz3MLhHEiu3lo8UsWxMDe/sVeefAf9nbSfgdeeJfEdz8RPEnjHxJ4v1GG88ReKfFb2Yu7ow26W8EQjsba2tooo40AVY4UyWdmLMzMfQ6ACiiigD5c/ao/ax%2BKH7OHxe8cWXxK0bwl4i%2BF9h%2Bzv4v8e22hW%2BiXCaq7aINLWe2uLmS5e3minW%2BnAQWyFQiZd8sK7f8AZn%2BL/wAfNU%2BLnjL9nb9paTwleeKPDHhjw94lj1XwVpNzY2Ullqz6lbrbGG5ublzLDcaRdgyiQLIjxN5cZ3LUHxj/AGFfDvx0%2BOrfGXx58dvHMumzeCtT8I33w9hg0X%2BxLvRtSW2%2B32khfTWvSJ2tIHZxdB1KEIyIzIek/Z3/AGXdD/Z9vtb8Rz/FDxb438Q6/a2Flf8Aifxtc2kl79gsUkWzs1%2ByW1vH5URnuHBKGR3uZXd3Zs0Aen0UUUAFfInxr/aX/a28Ga7%2B0B4Et/CvgzxZe%2BAvD/hTxJ8NrHSfh/qd/Oseo6rqUIS8tYrx5dRngXTY51NsLclyQq/KrV9d14XL%2BxR4hi%2BOnjb4/wChftofFbStW8b6RY6Zc2NlZ%2BGGtNNtrK4uZ7NLYS6K8n7o3l0oMzyl1nIk8wqhUA6v9lT4tzfGX4UjxNqPxO0bxTqNrqtzY6tdaP4Iv/DZs7iJvmtZ9M1G4nurSdFK7kmYMQyttVWFek1wnwD%2BAegfAHQtZsdP8W654j1XxN4gl1zxP4m8SS27Xuq38kMMHmyC2hhgjCwW9vCqRRRoqQoAuck93QAUUUUAfG37S37Xf7S37PHxmg%2BG2tJ8M/Gt9rcEE3hGHTvC17aS%2BC7zUvEOmeHtIm1OV76cXUU7avOC0S2cjixuljDL5hi9y/ZV%2BL/xI%2BIw8f8Aw%2B%2BMZ0SfxV8NPHjeGtZ1Xw1p01nYan5ml6dq1vcQ28088lvm11S3R42mlxJHJhiCMcJbf8E1fCTXXxDfxD%2B0v8TtZt/iTrx1zWLfUjoXmWepRXEM%2Bn3NtdRaWl0psHt7cWkbzSRRLCgZH5z6x8A/gLofwD8Patptl4v1zxJq3iLX5ta8T%2BKPEr2xv9XvpI4ofOmFrBBAuyCC3gRIoo0WOCNQvBJAO6ooooAZc/afs0n2PZ52w%2BV5udu7HGcc4zXxB8Vv2uf20/hp8RNc%2BG1vbeA/GeveGL3w1b6t468EfBXX9Wj8OW%2BrNePe2EulWepT3dzNFDZWN0TFOn7u6haWBAYmk%2B3ruGS4tZbeG6kgeSNlWeIKXjJGAy7gVyOoyCPUGvnv4MfsBeIPgJ8Nrj4afDv9ur4xRR3WrPqc2s3ll4Tn1CW7leWS5nmmfQj9pkneXdJJOJHzGmwoBggHrPwE%2BIdl8Vvg74f%2BIVh8QNG8VJqeniR9f8P6TNYWl3ICVkKWs800tsVdWRoZJHeNlZWO5SB19cl8C/gv4S/Z9%2BF%2BnfCnwVc39xZWEt1cTX2q3Imur67urmW6urqZwqhpZrieaV9qqu6Q7VVcKOtoAKo%2BJ4fElz4b1C38G6nY2WryWUq6XeanYPdW0FwUIjklhjliaaNWwWRZIywBAdSdwvVm%2BMdBv/FHha/8O6X4t1LQbm8tXig1rRxAbqxcjiaIXEUsRdTyBJG6HHzKwyKAPib4U/twftZfG74uX/wA%2BFdl8P4fHKPrc48beK/hbrWiR6hpOkWmiyfZptCvL9NRsZWvPEcUcck8xQwrLcRxOsqg/W37NnxmsP2jv2dPAP7QulaRJp9r488FaV4itrCaTe9tHe2kVysTMAMlRKFJxzivItQ/4Jp%2BDtR1u6%2BJD/tLfFKH4iahPcrqfxPtbzSItYurGe0gtZdO8tdNFlFbGO1tmAito5FlhWUSCTLn3v4feA/Cfws8BaJ8MfAejx6dofhzSLbS9F0%2BIkpbWlvEsUMS5ycKiKoz6UAa9FFFAHL/ABp1Hxxo3wt1rW/hz4hsdL1awszdQ32oeD73xAiRxkPKBp1jPBc3kjRK6pFDIHLsuFc/I3xb8Nf%2BCiPx%2B1zxD4e13xhceEfAng3U5dR/4Snx5e/AzxFcWuo3trrsmkxfamS%2BjXwzLLa20RMWqM8luxEb/c2V9t/EzwZrvj3wlN4c8N/FLX/Bt5JLG8Wv%2BGYrF7uDawJVVv7a5gYMAVIeJuCcYOCPFdQ/4JzeFNW8A3vwo1T9pD4mz%2BF/Edzd3PxC0N7jR9njKe7uXnu5L6UaaJ4fOD%2BS0dlJaxiFFRUUAkgH0TRRRQAUUUUAFFFFABRRRQAUUUUAFFFFABRRRQAUUUUAFFFFABRRRQAUUUUAFFFFABRRRQAUUUUAFFFFABRRRQAUUUUAFFFFABRRRQAUUUUAFFFFABRRRQAUUUUAFFFFABRRRQAUUUUAFFFFABRRRQAUUUUAFFFFABRRRQAUUUUAFFFFABRRRQAUUUUAFFFFABRRRQAUUUUAFFFFABRRRQAUUUUAFFFFABRRRQAUUUUAFFFFABRRRQAUUUUAFFFFABRRRQAUUUUAFFFFABRRRQAUUUUAFFFFABRRRQAUUUUAFFFFABRRRQAUUUUAFFFFABRRRQB//9k%3D\">"
     },
     "metadata": {}
    }
   ],
   "source": [
    "s = tf.Session()\n",
    "s.run(tf.global_variables_initializer())\n",
    "\n",
    "BATCH_SIZE = 512\n",
    "EPOCHS = 40\n",
    "\n",
    "# for logging the progress right here in Jupyter (for those who don't have TensorBoard)\n",
    "simpleTrainingCurves = matplotlib_utils.SimpleTrainingCurves(\"cross-entropy\", \"accuracy\")\n",
    "\n",
    "for epoch in range(EPOCHS):  # we finish an epoch when we've looked at all training samples\n",
    "    \n",
    "    batch_losses = []\n",
    "    for batch_start in range(0, X_train_flat.shape[0], BATCH_SIZE):  # data is already shuffled\n",
    "        _, batch_loss = s.run([step, loss], {input_X: X_train_flat[batch_start:batch_start+BATCH_SIZE], \n",
    "                                             input_y: y_train_oh[batch_start:batch_start+BATCH_SIZE]})\n",
    "        # collect batch losses, this is almost free as we need a forward pass for backprop anyway\n",
    "        batch_losses.append(batch_loss)\n",
    "\n",
    "    train_loss = np.mean(batch_losses)\n",
    "    val_loss = s.run(loss, {input_X: X_val_flat, input_y: y_val_oh})  # this part is usually small\n",
    "    train_accuracy = accuracy_score(y_train, s.run(classes, {input_X: X_train_flat}))  # this is slow and usually skipped\n",
    "    valid_accuracy = accuracy_score(y_val, s.run(classes, {input_X: X_val_flat}))  \n",
    "    simpleTrainingCurves.add(train_loss, val_loss, train_accuracy, valid_accuracy)"
   ]
  },
  {
   "cell_type": "markdown",
   "metadata": {},
   "source": [
    "# Submit a linear model"
   ]
  },
  {
   "cell_type": "code",
   "execution_count": 107,
   "metadata": {},
   "outputs": [],
   "source": [
    "## GRADED PART, DO NOT CHANGE!\n",
    "# Testing shapes \n",
    "grader.set_answer(\"9XaAS\", grading_utils.get_tensors_shapes_string([W, b, input_X, input_y, logits, probas, classes]))\n",
    "# Validation loss\n",
    "grader.set_answer(\"vmogZ\", s.run(loss, {input_X: X_val_flat, input_y: y_val_oh}))\n",
    "# Validation accuracy\n",
    "grader.set_answer(\"RMv95\", accuracy_score(y_val, s.run(classes, {input_X: X_val_flat})))"
   ]
  },
  {
   "cell_type": "code",
   "execution_count": 108,
   "metadata": {
    "tags": []
   },
   "outputs": [
    {
     "output_type": "stream",
     "name": "stdout",
     "text": "Submitted to Coursera platform. See results on assignment page!\n"
    }
   ],
   "source": [
    "# you can make submission with answers so far to check yourself at this stage\n",
    "grader.submit(COURSERA_EMAIL, COURSERA_TOKEN)"
   ]
  },
  {
   "cell_type": "markdown",
   "metadata": {},
   "source": [
    "# MLP with hidden layers"
   ]
  },
  {
   "cell_type": "markdown",
   "metadata": {},
   "source": [
    "Previously we've coded a dense layer with matrix multiplication by hand. \n",
    "But this is not convenient, you have to create a lot of variables and your code becomes a mess. \n",
    "In TensorFlow there's an easier way to make a dense layer:\n",
    "```python\n",
    "hidden1 = tf.layers.dense(inputs, 256, activation=tf.nn.sigmoid)\n",
    "```\n",
    "\n",
    "That will create all the necessary variables automatically.\n",
    "Here you can also choose an activation function (remember that we need it for a hidden layer!).\n",
    "\n",
    "Now define the MLP with 2 hidden layers and restart training with the cell above.\n",
    "\n",
    "You're aiming for ~0.97 validation accuracy here."
   ]
  },
  {
   "cell_type": "code",
   "execution_count": 119,
   "metadata": {
    "tags": []
   },
   "outputs": [],
   "source": [
    "# write the code here to get a new `step` operation and then run the cell with training loop above.\n",
    "# name your variables in the same way (e.g. logits, probas, classes, etc) for safety.\n",
    "### YOUR CODE HERE ###\n",
    "\n",
    "hidden1 = tf.layers.dense(input_X,256,activation = tf.nn.sigmoid)\n",
    "hidden2 = tf.layers.dense(hidden1,256,activation = tf.nn.sigmoid)\n",
    "logits = tf.layers.dense(hidden2,10)\n",
    "probas = tf.nn.softmax(logits)\n",
    "classes = tf.argmax(probas, axis = 1)\n",
    "\n",
    "loss = tf.reduce_mean(tf.nn.softmax_cross_entropy_with_logits(labels = input_y, logits =  logits))\n",
    "step = tf.train.AdamOptimizer().minimize(loss)"
   ]
  },
  {
   "cell_type": "markdown",
   "metadata": {},
   "source": [
    "# Submit the MLP with 2 hidden layers\n",
    "Run these cells after training the MLP with 2 hidden layers"
   ]
  },
  {
   "cell_type": "code",
   "execution_count": 121,
   "metadata": {},
   "outputs": [],
   "source": [
    "## GRADED PART, DO NOT CHANGE!\n",
    "# Validation loss for MLP\n",
    "grader.set_answer(\"i8bgs\", s.run(loss, {input_X: X_val_flat, input_y: y_val_oh}))\n",
    "# Validation accuracy for MLP\n",
    "grader.set_answer(\"rE763\", accuracy_score(y_val, s.run(classes, {input_X: X_val_flat})))"
   ]
  },
  {
   "cell_type": "code",
   "execution_count": 122,
   "metadata": {
    "tags": []
   },
   "outputs": [
    {
     "output_type": "stream",
     "name": "stdout",
     "text": "Submitted to Coursera platform. See results on assignment page!\n"
    }
   ],
   "source": [
    "# you can make submission with answers so far to check yourself at this stage\n",
    "grader.submit(COURSERA_EMAIL, COURSERA_TOKEN)"
   ]
  },
  {
   "cell_type": "code",
   "execution_count": 123,
   "metadata": {},
   "outputs": [],
   "source": [
    "s.close()"
   ]
  }
 ],
 "metadata": {
  "kernelspec": {
   "display_name": "Python 3",
   "language": "python",
   "name": "python3"
  },
  "language_info": {
   "codemirror_mode": {
    "name": "ipython",
    "version": 3
   },
   "file_extension": ".py",
   "mimetype": "text/x-python",
   "name": "python",
   "nbconvert_exporter": "python",
   "pygments_lexer": "ipython3",
   "version": "3.8.3-final"
  }
 },
 "nbformat": 4,
 "nbformat_minor": 1
}